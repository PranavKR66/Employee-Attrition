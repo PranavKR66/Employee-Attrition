{
 "cells": [
  {
   "cell_type": "markdown",
   "metadata": {},
   "source": [
    "## Import libraries and dataset\n",
    "\n",
    "**The first step is to import the necessary libraries** "
   ]
  },
  {
   "cell_type": "code",
   "execution_count": 1,
   "metadata": {},
   "outputs": [],
   "source": [
    "import matplotlib.pyplot as plt\n",
    "import seaborn as sns\n",
    "import numpy as np\n",
    "import pandas as pd\n",
    "import mlxtend as ml\n",
    "from mlxtend.frequent_patterns import apriori\n",
    "from mlxtend.frequent_patterns import association_rules\n",
    "from mlxtend.preprocessing import TransactionEncoder\n",
    "%matplotlib inline"
   ]
  },
  {
   "cell_type": "markdown",
   "metadata": {},
   "source": [
    "**Next, we import the dataset and take a look at the first few columns**"
   ]
  },
  {
   "cell_type": "code",
   "execution_count": 2,
   "metadata": {},
   "outputs": [],
   "source": [
    "df = pd.read_csv('employee_attrition.csv')"
   ]
  },
  {
   "cell_type": "code",
   "execution_count": 3,
   "metadata": {},
   "outputs": [
    {
     "data": {
      "text/html": [
       "<div>\n",
       "<style scoped>\n",
       "    .dataframe tbody tr th:only-of-type {\n",
       "        vertical-align: middle;\n",
       "    }\n",
       "\n",
       "    .dataframe tbody tr th {\n",
       "        vertical-align: top;\n",
       "    }\n",
       "\n",
       "    .dataframe thead th {\n",
       "        text-align: right;\n",
       "    }\n",
       "</style>\n",
       "<table border=\"1\" class=\"dataframe\">\n",
       "  <thead>\n",
       "    <tr style=\"text-align: right;\">\n",
       "      <th></th>\n",
       "      <th>Age</th>\n",
       "      <th>Attrition</th>\n",
       "      <th>BusinessTravel</th>\n",
       "      <th>DailyRate</th>\n",
       "      <th>Department</th>\n",
       "      <th>DistanceFromHome</th>\n",
       "      <th>Education</th>\n",
       "      <th>EducationField</th>\n",
       "      <th>EmployeeCount</th>\n",
       "      <th>EmployeeNumber</th>\n",
       "      <th>...</th>\n",
       "      <th>RelationshipSatisfaction</th>\n",
       "      <th>StandardHours</th>\n",
       "      <th>StockOptionLevel</th>\n",
       "      <th>TotalWorkingYears</th>\n",
       "      <th>TrainingTimesLastYear</th>\n",
       "      <th>WorkLifeBalance</th>\n",
       "      <th>YearsAtCompany</th>\n",
       "      <th>YearsInCurrentRole</th>\n",
       "      <th>YearsSinceLastPromotion</th>\n",
       "      <th>YearsWithCurrManager</th>\n",
       "    </tr>\n",
       "  </thead>\n",
       "  <tbody>\n",
       "    <tr>\n",
       "      <td>0</td>\n",
       "      <td>30</td>\n",
       "      <td>No</td>\n",
       "      <td>Travel_Rarely</td>\n",
       "      <td>1358</td>\n",
       "      <td>Sales</td>\n",
       "      <td>16.0</td>\n",
       "      <td>1</td>\n",
       "      <td>Life Sciences</td>\n",
       "      <td>1</td>\n",
       "      <td>1479</td>\n",
       "      <td>...</td>\n",
       "      <td>3.0</td>\n",
       "      <td>80</td>\n",
       "      <td>2</td>\n",
       "      <td>4.0</td>\n",
       "      <td>2</td>\n",
       "      <td>2</td>\n",
       "      <td>2</td>\n",
       "      <td>1</td>\n",
       "      <td>2.0</td>\n",
       "      <td>2</td>\n",
       "    </tr>\n",
       "    <tr>\n",
       "      <td>1</td>\n",
       "      <td>52</td>\n",
       "      <td>No</td>\n",
       "      <td>Travel_Rarely</td>\n",
       "      <td>1325</td>\n",
       "      <td>Research &amp; Development</td>\n",
       "      <td>11.0</td>\n",
       "      <td>4</td>\n",
       "      <td>Life Sciences</td>\n",
       "      <td>1</td>\n",
       "      <td>813</td>\n",
       "      <td>...</td>\n",
       "      <td>2.0</td>\n",
       "      <td>80</td>\n",
       "      <td>1</td>\n",
       "      <td>9.0</td>\n",
       "      <td>3</td>\n",
       "      <td>3</td>\n",
       "      <td>5</td>\n",
       "      <td>2</td>\n",
       "      <td>1.0</td>\n",
       "      <td>4</td>\n",
       "    </tr>\n",
       "    <tr>\n",
       "      <td>2</td>\n",
       "      <td>42</td>\n",
       "      <td>No</td>\n",
       "      <td>Travel_Rarely</td>\n",
       "      <td>462</td>\n",
       "      <td>Sales</td>\n",
       "      <td>14.0</td>\n",
       "      <td>2</td>\n",
       "      <td>Medical</td>\n",
       "      <td>1</td>\n",
       "      <td>936</td>\n",
       "      <td>...</td>\n",
       "      <td>1.0</td>\n",
       "      <td>80</td>\n",
       "      <td>0</td>\n",
       "      <td>10.0</td>\n",
       "      <td>6</td>\n",
       "      <td>3</td>\n",
       "      <td>5</td>\n",
       "      <td>4</td>\n",
       "      <td>0.0</td>\n",
       "      <td>3</td>\n",
       "    </tr>\n",
       "    <tr>\n",
       "      <td>3</td>\n",
       "      <td>55</td>\n",
       "      <td>No</td>\n",
       "      <td>Non-Travel</td>\n",
       "      <td>177</td>\n",
       "      <td>Research &amp; Development</td>\n",
       "      <td>8.0</td>\n",
       "      <td>1</td>\n",
       "      <td>Medical</td>\n",
       "      <td>1</td>\n",
       "      <td>1278</td>\n",
       "      <td>...</td>\n",
       "      <td>4.0</td>\n",
       "      <td>80</td>\n",
       "      <td>1</td>\n",
       "      <td>34.0</td>\n",
       "      <td>3</td>\n",
       "      <td>3</td>\n",
       "      <td>33</td>\n",
       "      <td>9</td>\n",
       "      <td>15.0</td>\n",
       "      <td>0</td>\n",
       "    </tr>\n",
       "    <tr>\n",
       "      <td>4</td>\n",
       "      <td>35</td>\n",
       "      <td>No</td>\n",
       "      <td>Travel_Rarely</td>\n",
       "      <td>1029</td>\n",
       "      <td>Research &amp; Development</td>\n",
       "      <td>16.0</td>\n",
       "      <td>3</td>\n",
       "      <td>Life Sciences</td>\n",
       "      <td>1</td>\n",
       "      <td>1529</td>\n",
       "      <td>...</td>\n",
       "      <td>4.0</td>\n",
       "      <td>80</td>\n",
       "      <td>0</td>\n",
       "      <td>11.0</td>\n",
       "      <td>3</td>\n",
       "      <td>1</td>\n",
       "      <td>11</td>\n",
       "      <td>8</td>\n",
       "      <td>3.0</td>\n",
       "      <td>3</td>\n",
       "    </tr>\n",
       "  </tbody>\n",
       "</table>\n",
       "<p>5 rows × 35 columns</p>\n",
       "</div>"
      ],
      "text/plain": [
       "   Age Attrition BusinessTravel  DailyRate              Department  \\\n",
       "0   30        No  Travel_Rarely       1358                   Sales   \n",
       "1   52        No  Travel_Rarely       1325  Research & Development   \n",
       "2   42        No  Travel_Rarely        462                   Sales   \n",
       "3   55        No     Non-Travel        177  Research & Development   \n",
       "4   35        No  Travel_Rarely       1029  Research & Development   \n",
       "\n",
       "   DistanceFromHome  Education EducationField  EmployeeCount  EmployeeNumber  \\\n",
       "0              16.0          1  Life Sciences              1            1479   \n",
       "1              11.0          4  Life Sciences              1             813   \n",
       "2              14.0          2        Medical              1             936   \n",
       "3               8.0          1        Medical              1            1278   \n",
       "4              16.0          3  Life Sciences              1            1529   \n",
       "\n",
       "   ...  RelationshipSatisfaction StandardHours  StockOptionLevel  \\\n",
       "0  ...                       3.0            80                 2   \n",
       "1  ...                       2.0            80                 1   \n",
       "2  ...                       1.0            80                 0   \n",
       "3  ...                       4.0            80                 1   \n",
       "4  ...                       4.0            80                 0   \n",
       "\n",
       "   TotalWorkingYears  TrainingTimesLastYear WorkLifeBalance  YearsAtCompany  \\\n",
       "0                4.0                      2               2               2   \n",
       "1                9.0                      3               3               5   \n",
       "2               10.0                      6               3               5   \n",
       "3               34.0                      3               3              33   \n",
       "4               11.0                      3               1              11   \n",
       "\n",
       "  YearsInCurrentRole  YearsSinceLastPromotion  YearsWithCurrManager  \n",
       "0                  1                      2.0                     2  \n",
       "1                  2                      1.0                     4  \n",
       "2                  4                      0.0                     3  \n",
       "3                  9                     15.0                     0  \n",
       "4                  8                      3.0                     3  \n",
       "\n",
       "[5 rows x 35 columns]"
      ]
     },
     "execution_count": 3,
     "metadata": {},
     "output_type": "execute_result"
    }
   ],
   "source": [
    "df.head()"
   ]
  },
  {
   "cell_type": "code",
   "execution_count": 4,
   "metadata": {},
   "outputs": [
    {
     "data": {
      "text/plain": [
       "(1176, 35)"
      ]
     },
     "execution_count": 4,
     "metadata": {},
     "output_type": "execute_result"
    }
   ],
   "source": [
    "df.shape"
   ]
  },
  {
   "cell_type": "markdown",
   "metadata": {},
   "source": [
    "**Next, we run decriptive statistics**"
   ]
  },
  {
   "cell_type": "code",
   "execution_count": 5,
   "metadata": {},
   "outputs": [
    {
     "data": {
      "text/html": [
       "<div>\n",
       "<style scoped>\n",
       "    .dataframe tbody tr th:only-of-type {\n",
       "        vertical-align: middle;\n",
       "    }\n",
       "\n",
       "    .dataframe tbody tr th {\n",
       "        vertical-align: top;\n",
       "    }\n",
       "\n",
       "    .dataframe thead th {\n",
       "        text-align: right;\n",
       "    }\n",
       "</style>\n",
       "<table border=\"1\" class=\"dataframe\">\n",
       "  <thead>\n",
       "    <tr style=\"text-align: right;\">\n",
       "      <th></th>\n",
       "      <th>Age</th>\n",
       "      <th>DailyRate</th>\n",
       "      <th>DistanceFromHome</th>\n",
       "      <th>Education</th>\n",
       "      <th>EmployeeCount</th>\n",
       "      <th>EmployeeNumber</th>\n",
       "      <th>EnvironmentSatisfaction</th>\n",
       "      <th>HourlyRate</th>\n",
       "      <th>JobInvolvement</th>\n",
       "      <th>JobLevel</th>\n",
       "      <th>...</th>\n",
       "      <th>RelationshipSatisfaction</th>\n",
       "      <th>StandardHours</th>\n",
       "      <th>StockOptionLevel</th>\n",
       "      <th>TotalWorkingYears</th>\n",
       "      <th>TrainingTimesLastYear</th>\n",
       "      <th>WorkLifeBalance</th>\n",
       "      <th>YearsAtCompany</th>\n",
       "      <th>YearsInCurrentRole</th>\n",
       "      <th>YearsSinceLastPromotion</th>\n",
       "      <th>YearsWithCurrManager</th>\n",
       "    </tr>\n",
       "  </thead>\n",
       "  <tbody>\n",
       "    <tr>\n",
       "      <td>count</td>\n",
       "      <td>1176.000000</td>\n",
       "      <td>1176.000000</td>\n",
       "      <td>1174.000000</td>\n",
       "      <td>1176.000000</td>\n",
       "      <td>1176.0</td>\n",
       "      <td>1176.000000</td>\n",
       "      <td>1176.000000</td>\n",
       "      <td>1176.000000</td>\n",
       "      <td>1176.000000</td>\n",
       "      <td>1175.000000</td>\n",
       "      <td>...</td>\n",
       "      <td>1175.000000</td>\n",
       "      <td>1176.0</td>\n",
       "      <td>1176.000000</td>\n",
       "      <td>1174.000000</td>\n",
       "      <td>1176.000000</td>\n",
       "      <td>1176.000000</td>\n",
       "      <td>1176.000000</td>\n",
       "      <td>1176.000000</td>\n",
       "      <td>1175.000000</td>\n",
       "      <td>1176.000000</td>\n",
       "    </tr>\n",
       "    <tr>\n",
       "      <td>mean</td>\n",
       "      <td>36.960034</td>\n",
       "      <td>800.386905</td>\n",
       "      <td>9.495741</td>\n",
       "      <td>2.895408</td>\n",
       "      <td>1.0</td>\n",
       "      <td>1036.430272</td>\n",
       "      <td>2.704932</td>\n",
       "      <td>65.822279</td>\n",
       "      <td>2.740646</td>\n",
       "      <td>2.068936</td>\n",
       "      <td>...</td>\n",
       "      <td>2.718298</td>\n",
       "      <td>80.0</td>\n",
       "      <td>0.795918</td>\n",
       "      <td>11.402896</td>\n",
       "      <td>2.809524</td>\n",
       "      <td>2.747449</td>\n",
       "      <td>6.918367</td>\n",
       "      <td>4.151361</td>\n",
       "      <td>2.125106</td>\n",
       "      <td>4.242347</td>\n",
       "    </tr>\n",
       "    <tr>\n",
       "      <td>std</td>\n",
       "      <td>9.071964</td>\n",
       "      <td>404.709216</td>\n",
       "      <td>10.251379</td>\n",
       "      <td>1.025685</td>\n",
       "      <td>0.0</td>\n",
       "      <td>600.681874</td>\n",
       "      <td>1.094128</td>\n",
       "      <td>20.292035</td>\n",
       "      <td>0.719277</td>\n",
       "      <td>1.109590</td>\n",
       "      <td>...</td>\n",
       "      <td>1.084095</td>\n",
       "      <td>0.0</td>\n",
       "      <td>0.847033</td>\n",
       "      <td>8.368864</td>\n",
       "      <td>1.307697</td>\n",
       "      <td>0.691586</td>\n",
       "      <td>6.107140</td>\n",
       "      <td>3.501618</td>\n",
       "      <td>3.183567</td>\n",
       "      <td>7.210390</td>\n",
       "    </tr>\n",
       "    <tr>\n",
       "      <td>min</td>\n",
       "      <td>18.000000</td>\n",
       "      <td>102.000000</td>\n",
       "      <td>1.000000</td>\n",
       "      <td>1.000000</td>\n",
       "      <td>1.0</td>\n",
       "      <td>1.000000</td>\n",
       "      <td>1.000000</td>\n",
       "      <td>30.000000</td>\n",
       "      <td>1.000000</td>\n",
       "      <td>1.000000</td>\n",
       "      <td>...</td>\n",
       "      <td>1.000000</td>\n",
       "      <td>80.0</td>\n",
       "      <td>0.000000</td>\n",
       "      <td>0.000000</td>\n",
       "      <td>0.000000</td>\n",
       "      <td>1.000000</td>\n",
       "      <td>0.000000</td>\n",
       "      <td>0.000000</td>\n",
       "      <td>0.000000</td>\n",
       "      <td>0.000000</td>\n",
       "    </tr>\n",
       "    <tr>\n",
       "      <td>25%</td>\n",
       "      <td>30.000000</td>\n",
       "      <td>461.750000</td>\n",
       "      <td>2.000000</td>\n",
       "      <td>2.000000</td>\n",
       "      <td>1.0</td>\n",
       "      <td>499.750000</td>\n",
       "      <td>2.000000</td>\n",
       "      <td>48.000000</td>\n",
       "      <td>2.000000</td>\n",
       "      <td>1.000000</td>\n",
       "      <td>...</td>\n",
       "      <td>2.000000</td>\n",
       "      <td>80.0</td>\n",
       "      <td>0.000000</td>\n",
       "      <td>6.000000</td>\n",
       "      <td>2.000000</td>\n",
       "      <td>2.000000</td>\n",
       "      <td>3.000000</td>\n",
       "      <td>2.000000</td>\n",
       "      <td>0.000000</td>\n",
       "      <td>2.000000</td>\n",
       "    </tr>\n",
       "    <tr>\n",
       "      <td>50%</td>\n",
       "      <td>36.000000</td>\n",
       "      <td>796.000000</td>\n",
       "      <td>7.000000</td>\n",
       "      <td>3.000000</td>\n",
       "      <td>1.0</td>\n",
       "      <td>1032.500000</td>\n",
       "      <td>3.000000</td>\n",
       "      <td>66.000000</td>\n",
       "      <td>3.000000</td>\n",
       "      <td>2.000000</td>\n",
       "      <td>...</td>\n",
       "      <td>3.000000</td>\n",
       "      <td>80.0</td>\n",
       "      <td>1.000000</td>\n",
       "      <td>10.000000</td>\n",
       "      <td>3.000000</td>\n",
       "      <td>3.000000</td>\n",
       "      <td>5.000000</td>\n",
       "      <td>3.000000</td>\n",
       "      <td>1.000000</td>\n",
       "      <td>3.000000</td>\n",
       "    </tr>\n",
       "    <tr>\n",
       "      <td>75%</td>\n",
       "      <td>43.000000</td>\n",
       "      <td>1162.000000</td>\n",
       "      <td>14.000000</td>\n",
       "      <td>4.000000</td>\n",
       "      <td>1.0</td>\n",
       "      <td>1574.500000</td>\n",
       "      <td>4.000000</td>\n",
       "      <td>83.000000</td>\n",
       "      <td>3.000000</td>\n",
       "      <td>3.000000</td>\n",
       "      <td>...</td>\n",
       "      <td>4.000000</td>\n",
       "      <td>80.0</td>\n",
       "      <td>1.000000</td>\n",
       "      <td>15.000000</td>\n",
       "      <td>3.000000</td>\n",
       "      <td>3.000000</td>\n",
       "      <td>9.000000</td>\n",
       "      <td>7.000000</td>\n",
       "      <td>2.000000</td>\n",
       "      <td>7.000000</td>\n",
       "    </tr>\n",
       "    <tr>\n",
       "      <td>max</td>\n",
       "      <td>60.000000</td>\n",
       "      <td>1499.000000</td>\n",
       "      <td>224.000000</td>\n",
       "      <td>5.000000</td>\n",
       "      <td>1.0</td>\n",
       "      <td>2068.000000</td>\n",
       "      <td>4.000000</td>\n",
       "      <td>100.000000</td>\n",
       "      <td>4.000000</td>\n",
       "      <td>5.000000</td>\n",
       "      <td>...</td>\n",
       "      <td>4.000000</td>\n",
       "      <td>80.0</td>\n",
       "      <td>3.000000</td>\n",
       "      <td>114.000000</td>\n",
       "      <td>6.000000</td>\n",
       "      <td>4.000000</td>\n",
       "      <td>40.000000</td>\n",
       "      <td>18.000000</td>\n",
       "      <td>15.000000</td>\n",
       "      <td>219.000000</td>\n",
       "    </tr>\n",
       "  </tbody>\n",
       "</table>\n",
       "<p>8 rows × 26 columns</p>\n",
       "</div>"
      ],
      "text/plain": [
       "               Age    DailyRate  DistanceFromHome    Education  EmployeeCount  \\\n",
       "count  1176.000000  1176.000000       1174.000000  1176.000000         1176.0   \n",
       "mean     36.960034   800.386905          9.495741     2.895408            1.0   \n",
       "std       9.071964   404.709216         10.251379     1.025685            0.0   \n",
       "min      18.000000   102.000000          1.000000     1.000000            1.0   \n",
       "25%      30.000000   461.750000          2.000000     2.000000            1.0   \n",
       "50%      36.000000   796.000000          7.000000     3.000000            1.0   \n",
       "75%      43.000000  1162.000000         14.000000     4.000000            1.0   \n",
       "max      60.000000  1499.000000        224.000000     5.000000            1.0   \n",
       "\n",
       "       EmployeeNumber  EnvironmentSatisfaction   HourlyRate  JobInvolvement  \\\n",
       "count     1176.000000              1176.000000  1176.000000     1176.000000   \n",
       "mean      1036.430272                 2.704932    65.822279        2.740646   \n",
       "std        600.681874                 1.094128    20.292035        0.719277   \n",
       "min          1.000000                 1.000000    30.000000        1.000000   \n",
       "25%        499.750000                 2.000000    48.000000        2.000000   \n",
       "50%       1032.500000                 3.000000    66.000000        3.000000   \n",
       "75%       1574.500000                 4.000000    83.000000        3.000000   \n",
       "max       2068.000000                 4.000000   100.000000        4.000000   \n",
       "\n",
       "          JobLevel  ...  RelationshipSatisfaction  StandardHours  \\\n",
       "count  1175.000000  ...               1175.000000         1176.0   \n",
       "mean      2.068936  ...                  2.718298           80.0   \n",
       "std       1.109590  ...                  1.084095            0.0   \n",
       "min       1.000000  ...                  1.000000           80.0   \n",
       "25%       1.000000  ...                  2.000000           80.0   \n",
       "50%       2.000000  ...                  3.000000           80.0   \n",
       "75%       3.000000  ...                  4.000000           80.0   \n",
       "max       5.000000  ...                  4.000000           80.0   \n",
       "\n",
       "       StockOptionLevel  TotalWorkingYears  TrainingTimesLastYear  \\\n",
       "count       1176.000000        1174.000000            1176.000000   \n",
       "mean           0.795918          11.402896               2.809524   \n",
       "std            0.847033           8.368864               1.307697   \n",
       "min            0.000000           0.000000               0.000000   \n",
       "25%            0.000000           6.000000               2.000000   \n",
       "50%            1.000000          10.000000               3.000000   \n",
       "75%            1.000000          15.000000               3.000000   \n",
       "max            3.000000         114.000000               6.000000   \n",
       "\n",
       "       WorkLifeBalance  YearsAtCompany  YearsInCurrentRole  \\\n",
       "count      1176.000000     1176.000000         1176.000000   \n",
       "mean          2.747449        6.918367            4.151361   \n",
       "std           0.691586        6.107140            3.501618   \n",
       "min           1.000000        0.000000            0.000000   \n",
       "25%           2.000000        3.000000            2.000000   \n",
       "50%           3.000000        5.000000            3.000000   \n",
       "75%           3.000000        9.000000            7.000000   \n",
       "max           4.000000       40.000000           18.000000   \n",
       "\n",
       "       YearsSinceLastPromotion  YearsWithCurrManager  \n",
       "count              1175.000000           1176.000000  \n",
       "mean                  2.125106              4.242347  \n",
       "std                   3.183567              7.210390  \n",
       "min                   0.000000              0.000000  \n",
       "25%                   0.000000              2.000000  \n",
       "50%                   1.000000              3.000000  \n",
       "75%                   2.000000              7.000000  \n",
       "max                  15.000000            219.000000  \n",
       "\n",
       "[8 rows x 26 columns]"
      ]
     },
     "execution_count": 5,
     "metadata": {},
     "output_type": "execute_result"
    }
   ],
   "source": [
    "df.describe()"
   ]
  },
  {
   "cell_type": "markdown",
   "metadata": {},
   "source": [
    "**We can see from the stats above that the standard deviation of some fields is zero**"
   ]
  },
  {
   "cell_type": "code",
   "execution_count": 6,
   "metadata": {},
   "outputs": [
    {
     "data": {
      "text/plain": [
       "EmployeeCount    0.0\n",
       "StandardHours    0.0\n",
       "Name: std, dtype: float64"
      ]
     },
     "execution_count": 6,
     "metadata": {},
     "output_type": "execute_result"
    }
   ],
   "source": [
    "df.describe().loc['std'][df.describe().loc['std'] == 0]"
   ]
  },
  {
   "cell_type": "markdown",
   "metadata": {},
   "source": [
    "**Let's explore this further**"
   ]
  },
  {
   "cell_type": "code",
   "execution_count": 7,
   "metadata": {},
   "outputs": [
    {
     "name": "stdout",
     "output_type": "stream",
     "text": [
      "1    1176\n",
      "Name: EmployeeCount, dtype: int64\n",
      "80    1176\n",
      "Name: StandardHours, dtype: int64\n"
     ]
    }
   ],
   "source": [
    "print(df['EmployeeCount'].value_counts())\n",
    "print(df['StandardHours'].value_counts())"
   ]
  },
  {
   "cell_type": "markdown",
   "metadata": {},
   "source": [
    "**Since these attributes have no variance, they can be removed**"
   ]
  },
  {
   "cell_type": "code",
   "execution_count": 8,
   "metadata": {},
   "outputs": [],
   "source": [
    "df.drop(['EmployeeCount','StandardHours'],axis = 1,inplace = True)"
   ]
  },
  {
   "cell_type": "code",
   "execution_count": 9,
   "metadata": {},
   "outputs": [
    {
     "data": {
      "text/plain": [
       "Index(['Age', 'Attrition', 'BusinessTravel', 'DailyRate', 'Department',\n",
       "       'DistanceFromHome', 'Education', 'EducationField', 'EmployeeNumber',\n",
       "       'EnvironmentSatisfaction', 'Gender', 'HourlyRate', 'JobInvolvement',\n",
       "       'JobLevel', 'JobRole', 'JobSatisfaction', 'MaritalStatus',\n",
       "       'MonthlyIncome', 'MonthlyRate', 'NumCompaniesWorked', 'Over18',\n",
       "       'OverTime', 'PercentSalaryHike', 'PerformanceRating',\n",
       "       'RelationshipSatisfaction', 'StockOptionLevel', 'TotalWorkingYears',\n",
       "       'TrainingTimesLastYear', 'WorkLifeBalance', 'YearsAtCompany',\n",
       "       'YearsInCurrentRole', 'YearsSinceLastPromotion',\n",
       "       'YearsWithCurrManager'],\n",
       "      dtype='object')"
      ]
     },
     "execution_count": 9,
     "metadata": {},
     "output_type": "execute_result"
    }
   ],
   "source": [
    "df.columns"
   ]
  },
  {
   "cell_type": "markdown",
   "metadata": {},
   "source": [
    "**Now, let's explore the data futher**"
   ]
  },
  {
   "cell_type": "code",
   "execution_count": 10,
   "metadata": {},
   "outputs": [
    {
     "data": {
      "text/plain": [
       "<matplotlib.axes._subplots.AxesSubplot at 0x29e70a81ac8>"
      ]
     },
     "execution_count": 10,
     "metadata": {},
     "output_type": "execute_result"
    },
    {
     "data": {
      "image/png": "[encoded data removed]",
      "text/plain": [
       "<Figure size 432x288 with 1 Axes>"
      ]
     },
     "metadata": {
      "needs_background": "light"
     },
     "output_type": "display_data"
    }
   ],
   "source": [
    "sns.distplot(df['Age'],kde = False,bins = 30)"
   ]
  },
  {
   "cell_type": "markdown",
   "metadata": {},
   "source": [
    "**Age appears to be a continuous variable, it needs to be discretized**"
   ]
  },
  {
   "cell_type": "code",
   "execution_count": 11,
   "metadata": {},
   "outputs": [
    {
     "name": "stdout",
     "output_type": "stream",
     "text": [
      "18\n",
      "60\n"
     ]
    }
   ],
   "source": [
    "print(df['Age'].min())\n",
    "print(df['Age'].max())"
   ]
  },
  {
   "cell_type": "code",
   "execution_count": 12,
   "metadata": {},
   "outputs": [],
   "source": [
    "df['Age'] = pd.cut(df['Age'],bins = [17,35,50,70],labels = ['Young Adult','Middle Aged','Elderly'])"
   ]
  },
  {
   "cell_type": "code",
   "execution_count": 13,
   "metadata": {},
   "outputs": [
    {
     "data": {
      "text/html": [
       "<div>\n",
       "<style scoped>\n",
       "    .dataframe tbody tr th:only-of-type {\n",
       "        vertical-align: middle;\n",
       "    }\n",
       "\n",
       "    .dataframe tbody tr th {\n",
       "        vertical-align: top;\n",
       "    }\n",
       "\n",
       "    .dataframe thead th {\n",
       "        text-align: right;\n",
       "    }\n",
       "</style>\n",
       "<table border=\"1\" class=\"dataframe\">\n",
       "  <thead>\n",
       "    <tr style=\"text-align: right;\">\n",
       "      <th></th>\n",
       "      <th>Age</th>\n",
       "      <th>Attrition</th>\n",
       "      <th>BusinessTravel</th>\n",
       "      <th>DailyRate</th>\n",
       "      <th>Department</th>\n",
       "      <th>DistanceFromHome</th>\n",
       "      <th>Education</th>\n",
       "      <th>EducationField</th>\n",
       "      <th>EmployeeNumber</th>\n",
       "      <th>EnvironmentSatisfaction</th>\n",
       "      <th>...</th>\n",
       "      <th>PerformanceRating</th>\n",
       "      <th>RelationshipSatisfaction</th>\n",
       "      <th>StockOptionLevel</th>\n",
       "      <th>TotalWorkingYears</th>\n",
       "      <th>TrainingTimesLastYear</th>\n",
       "      <th>WorkLifeBalance</th>\n",
       "      <th>YearsAtCompany</th>\n",
       "      <th>YearsInCurrentRole</th>\n",
       "      <th>YearsSinceLastPromotion</th>\n",
       "      <th>YearsWithCurrManager</th>\n",
       "    </tr>\n",
       "  </thead>\n",
       "  <tbody>\n",
       "    <tr>\n",
       "      <td>0</td>\n",
       "      <td>Young Adult</td>\n",
       "      <td>No</td>\n",
       "      <td>Travel_Rarely</td>\n",
       "      <td>1358</td>\n",
       "      <td>Sales</td>\n",
       "      <td>16.0</td>\n",
       "      <td>1</td>\n",
       "      <td>Life Sciences</td>\n",
       "      <td>1479</td>\n",
       "      <td>4</td>\n",
       "      <td>...</td>\n",
       "      <td>3.0</td>\n",
       "      <td>3.0</td>\n",
       "      <td>2</td>\n",
       "      <td>4.0</td>\n",
       "      <td>2</td>\n",
       "      <td>2</td>\n",
       "      <td>2</td>\n",
       "      <td>1</td>\n",
       "      <td>2.0</td>\n",
       "      <td>2</td>\n",
       "    </tr>\n",
       "    <tr>\n",
       "      <td>1</td>\n",
       "      <td>Elderly</td>\n",
       "      <td>No</td>\n",
       "      <td>Travel_Rarely</td>\n",
       "      <td>1325</td>\n",
       "      <td>Research &amp; Development</td>\n",
       "      <td>11.0</td>\n",
       "      <td>4</td>\n",
       "      <td>Life Sciences</td>\n",
       "      <td>813</td>\n",
       "      <td>4</td>\n",
       "      <td>...</td>\n",
       "      <td>4.0</td>\n",
       "      <td>2.0</td>\n",
       "      <td>1</td>\n",
       "      <td>9.0</td>\n",
       "      <td>3</td>\n",
       "      <td>3</td>\n",
       "      <td>5</td>\n",
       "      <td>2</td>\n",
       "      <td>1.0</td>\n",
       "      <td>4</td>\n",
       "    </tr>\n",
       "    <tr>\n",
       "      <td>2</td>\n",
       "      <td>Middle Aged</td>\n",
       "      <td>No</td>\n",
       "      <td>Travel_Rarely</td>\n",
       "      <td>462</td>\n",
       "      <td>Sales</td>\n",
       "      <td>14.0</td>\n",
       "      <td>2</td>\n",
       "      <td>Medical</td>\n",
       "      <td>936</td>\n",
       "      <td>3</td>\n",
       "      <td>...</td>\n",
       "      <td>3.0</td>\n",
       "      <td>1.0</td>\n",
       "      <td>0</td>\n",
       "      <td>10.0</td>\n",
       "      <td>6</td>\n",
       "      <td>3</td>\n",
       "      <td>5</td>\n",
       "      <td>4</td>\n",
       "      <td>0.0</td>\n",
       "      <td>3</td>\n",
       "    </tr>\n",
       "    <tr>\n",
       "      <td>3</td>\n",
       "      <td>Elderly</td>\n",
       "      <td>No</td>\n",
       "      <td>Non-Travel</td>\n",
       "      <td>177</td>\n",
       "      <td>Research &amp; Development</td>\n",
       "      <td>8.0</td>\n",
       "      <td>1</td>\n",
       "      <td>Medical</td>\n",
       "      <td>1278</td>\n",
       "      <td>4</td>\n",
       "      <td>...</td>\n",
       "      <td>3.0</td>\n",
       "      <td>4.0</td>\n",
       "      <td>1</td>\n",
       "      <td>34.0</td>\n",
       "      <td>3</td>\n",
       "      <td>3</td>\n",
       "      <td>33</td>\n",
       "      <td>9</td>\n",
       "      <td>15.0</td>\n",
       "      <td>0</td>\n",
       "    </tr>\n",
       "    <tr>\n",
       "      <td>4</td>\n",
       "      <td>Young Adult</td>\n",
       "      <td>No</td>\n",
       "      <td>Travel_Rarely</td>\n",
       "      <td>1029</td>\n",
       "      <td>Research &amp; Development</td>\n",
       "      <td>16.0</td>\n",
       "      <td>3</td>\n",
       "      <td>Life Sciences</td>\n",
       "      <td>1529</td>\n",
       "      <td>4</td>\n",
       "      <td>...</td>\n",
       "      <td>3.0</td>\n",
       "      <td>4.0</td>\n",
       "      <td>0</td>\n",
       "      <td>11.0</td>\n",
       "      <td>3</td>\n",
       "      <td>1</td>\n",
       "      <td>11</td>\n",
       "      <td>8</td>\n",
       "      <td>3.0</td>\n",
       "      <td>3</td>\n",
       "    </tr>\n",
       "  </tbody>\n",
       "</table>\n",
       "<p>5 rows × 33 columns</p>\n",
       "</div>"
      ],
      "text/plain": [
       "           Age Attrition BusinessTravel  DailyRate              Department  \\\n",
       "0  Young Adult        No  Travel_Rarely       1358                   Sales   \n",
       "1      Elderly        No  Travel_Rarely       1325  Research & Development   \n",
       "2  Middle Aged        No  Travel_Rarely        462                   Sales   \n",
       "3      Elderly        No     Non-Travel        177  Research & Development   \n",
       "4  Young Adult        No  Travel_Rarely       1029  Research & Development   \n",
       "\n",
       "   DistanceFromHome  Education EducationField  EmployeeNumber  \\\n",
       "0              16.0          1  Life Sciences            1479   \n",
       "1              11.0          4  Life Sciences             813   \n",
       "2              14.0          2        Medical             936   \n",
       "3               8.0          1        Medical            1278   \n",
       "4              16.0          3  Life Sciences            1529   \n",
       "\n",
       "   EnvironmentSatisfaction  ... PerformanceRating  RelationshipSatisfaction  \\\n",
       "0                        4  ...               3.0                       3.0   \n",
       "1                        4  ...               4.0                       2.0   \n",
       "2                        3  ...               3.0                       1.0   \n",
       "3                        4  ...               3.0                       4.0   \n",
       "4                        4  ...               3.0                       4.0   \n",
       "\n",
       "   StockOptionLevel  TotalWorkingYears TrainingTimesLastYear  WorkLifeBalance  \\\n",
       "0                 2                4.0                     2                2   \n",
       "1                 1                9.0                     3                3   \n",
       "2                 0               10.0                     6                3   \n",
       "3                 1               34.0                     3                3   \n",
       "4                 0               11.0                     3                1   \n",
       "\n",
       "  YearsAtCompany  YearsInCurrentRole  YearsSinceLastPromotion  \\\n",
       "0              2                   1                      2.0   \n",
       "1              5                   2                      1.0   \n",
       "2              5                   4                      0.0   \n",
       "3             33                   9                     15.0   \n",
       "4             11                   8                      3.0   \n",
       "\n",
       "   YearsWithCurrManager  \n",
       "0                     2  \n",
       "1                     4  \n",
       "2                     3  \n",
       "3                     0  \n",
       "4                     3  \n",
       "\n",
       "[5 rows x 33 columns]"
      ]
     },
     "execution_count": 13,
     "metadata": {},
     "output_type": "execute_result"
    }
   ],
   "source": [
    "df.head()"
   ]
  },
  {
   "cell_type": "markdown",
   "metadata": {},
   "source": [
    "**Let's check for N/A's**"
   ]
  },
  {
   "cell_type": "code",
   "execution_count": 14,
   "metadata": {},
   "outputs": [
    {
     "data": {
      "text/plain": [
       "DistanceFromHome            2\n",
       "Gender                      1\n",
       "JobLevel                    1\n",
       "OverTime                    1\n",
       "PercentSalaryHike           1\n",
       "PerformanceRating           1\n",
       "RelationshipSatisfaction    1\n",
       "TotalWorkingYears           2\n",
       "YearsSinceLastPromotion     1\n",
       "dtype: int64"
      ]
     },
     "execution_count": 14,
     "metadata": {},
     "output_type": "execute_result"
    }
   ],
   "source": [
    "df.isna().sum()[df.isna().sum() > 0]"
   ]
  },
  {
   "cell_type": "markdown",
   "metadata": {},
   "source": [
    "**Let's visualize some of these attributes**"
   ]
  },
  {
   "cell_type": "code",
   "execution_count": 15,
   "metadata": {},
   "outputs": [
    {
     "data": {
      "text/plain": [
       "<matplotlib.axes._subplots.AxesSubplot at 0x29e70dc2b48>"
      ]
     },
     "execution_count": 15,
     "metadata": {},
     "output_type": "execute_result"
    },
    {
     "data": {
      "image/png": "[encoded data removed]",
      "text/plain": [
       "<Figure size 432x288 with 1 Axes>"
      ]
     },
     "metadata": {
      "needs_background": "light"
     },
     "output_type": "display_data"
    }
   ],
   "source": [
    "sns.distplot(df['TotalWorkingYears'].dropna(),kde = False)"
   ]
  },
  {
   "cell_type": "markdown",
   "metadata": {},
   "source": [
    "**The NA can be replaced with the median**"
   ]
  },
  {
   "cell_type": "code",
   "execution_count": 16,
   "metadata": {},
   "outputs": [
    {
     "data": {
      "text/plain": [
       "Int64Index([82, 968], dtype='int64')"
      ]
     },
     "execution_count": 16,
     "metadata": {},
     "output_type": "execute_result"
    }
   ],
   "source": [
    "df[df['TotalWorkingYears'].isna()].index"
   ]
  },
  {
   "cell_type": "code",
   "execution_count": 17,
   "metadata": {},
   "outputs": [],
   "source": [
    "rownum = [82, 968]\n",
    "\n",
    "for num in rownum:\n",
    "    df.at[num,'TotalWorkingYears'] = df['TotalWorkingYears'].median()"
   ]
  },
  {
   "cell_type": "markdown",
   "metadata": {},
   "source": [
    "**Let's check if it worked**"
   ]
  },
  {
   "cell_type": "code",
   "execution_count": 18,
   "metadata": {},
   "outputs": [
    {
     "data": {
      "text/html": [
       "<div>\n",
       "<style scoped>\n",
       "    .dataframe tbody tr th:only-of-type {\n",
       "        vertical-align: middle;\n",
       "    }\n",
       "\n",
       "    .dataframe tbody tr th {\n",
       "        vertical-align: top;\n",
       "    }\n",
       "\n",
       "    .dataframe thead th {\n",
       "        text-align: right;\n",
       "    }\n",
       "</style>\n",
       "<table border=\"1\" class=\"dataframe\">\n",
       "  <thead>\n",
       "    <tr style=\"text-align: right;\">\n",
       "      <th></th>\n",
       "      <th>Age</th>\n",
       "      <th>Attrition</th>\n",
       "      <th>BusinessTravel</th>\n",
       "      <th>DailyRate</th>\n",
       "      <th>Department</th>\n",
       "      <th>DistanceFromHome</th>\n",
       "      <th>Education</th>\n",
       "      <th>EducationField</th>\n",
       "      <th>EmployeeNumber</th>\n",
       "      <th>EnvironmentSatisfaction</th>\n",
       "      <th>...</th>\n",
       "      <th>PerformanceRating</th>\n",
       "      <th>RelationshipSatisfaction</th>\n",
       "      <th>StockOptionLevel</th>\n",
       "      <th>TotalWorkingYears</th>\n",
       "      <th>TrainingTimesLastYear</th>\n",
       "      <th>WorkLifeBalance</th>\n",
       "      <th>YearsAtCompany</th>\n",
       "      <th>YearsInCurrentRole</th>\n",
       "      <th>YearsSinceLastPromotion</th>\n",
       "      <th>YearsWithCurrManager</th>\n",
       "    </tr>\n",
       "  </thead>\n",
       "  <tbody>\n",
       "  </tbody>\n",
       "</table>\n",
       "<p>0 rows × 33 columns</p>\n",
       "</div>"
      ],
      "text/plain": [
       "Empty DataFrame\n",
       "Columns: [Age, Attrition, BusinessTravel, DailyRate, Department, DistanceFromHome, Education, EducationField, EmployeeNumber, EnvironmentSatisfaction, Gender, HourlyRate, JobInvolvement, JobLevel, JobRole, JobSatisfaction, MaritalStatus, MonthlyIncome, MonthlyRate, NumCompaniesWorked, Over18, OverTime, PercentSalaryHike, PerformanceRating, RelationshipSatisfaction, StockOptionLevel, TotalWorkingYears, TrainingTimesLastYear, WorkLifeBalance, YearsAtCompany, YearsInCurrentRole, YearsSinceLastPromotion, YearsWithCurrManager]\n",
       "Index: []\n",
       "\n",
       "[0 rows x 33 columns]"
      ]
     },
     "execution_count": 18,
     "metadata": {},
     "output_type": "execute_result"
    }
   ],
   "source": [
    "df[df['TotalWorkingYears'].isna()]"
   ]
  },
  {
   "cell_type": "markdown",
   "metadata": {},
   "source": [
    "**From the above visualization, there appears to be an outlier**"
   ]
  },
  {
   "cell_type": "code",
   "execution_count": 19,
   "metadata": {},
   "outputs": [
    {
     "data": {
      "text/plain": [
       "143    114.0\n",
       "Name: TotalWorkingYears, dtype: float64"
      ]
     },
     "execution_count": 19,
     "metadata": {},
     "output_type": "execute_result"
    }
   ],
   "source": [
    "df[df['TotalWorkingYears'] > 70]['TotalWorkingYears']"
   ]
  },
  {
   "cell_type": "markdown",
   "metadata": {},
   "source": [
    "**The outlier will be incorporated into the highest bin during descretization**"
   ]
  },
  {
   "cell_type": "code",
   "execution_count": 20,
   "metadata": {},
   "outputs": [],
   "source": [
    "labels = ['Low','Intermediate','High','Very High']"
   ]
  },
  {
   "cell_type": "code",
   "execution_count": 21,
   "metadata": {},
   "outputs": [],
   "source": [
    "df['TotalWorkingYears'] = pd.qcut(df['TotalWorkingYears'],q = 4,labels = labels)"
   ]
  },
  {
   "cell_type": "code",
   "execution_count": 22,
   "metadata": {},
   "outputs": [
    {
     "data": {
      "text/plain": [
       "<matplotlib.axes._subplots.AxesSubplot at 0x29e70f29748>"
      ]
     },
     "execution_count": 22,
     "metadata": {},
     "output_type": "execute_result"
    },
    {
     "data": {
      "image/png": "[encoded data removed]",
      "text/plain": [
       "<Figure size 432x288 with 1 Axes>"
      ]
     },
     "metadata": {
      "needs_background": "light"
     },
     "output_type": "display_data"
    }
   ],
   "source": [
    "sns.countplot(x = 'TotalWorkingYears',data = df)"
   ]
  },
  {
   "cell_type": "code",
   "execution_count": 23,
   "metadata": {},
   "outputs": [
    {
     "data": {
      "text/plain": [
       "<matplotlib.axes._subplots.AxesSubplot at 0x29e70defa48>"
      ]
     },
     "execution_count": 23,
     "metadata": {},
     "output_type": "execute_result"
    },
    {
     "data": {
      "image/png": "[encoded data removed]",
      "text/plain": [
       "<Figure size 432x288 with 1 Axes>"
      ]
     },
     "metadata": {
      "needs_background": "light"
     },
     "output_type": "display_data"
    }
   ],
   "source": [
    "sns.countplot(x = 'YearsSinceLastPromotion',data = df)"
   ]
  },
  {
   "cell_type": "markdown",
   "metadata": {},
   "source": [
    "**The NA can be replaced with the median**"
   ]
  },
  {
   "cell_type": "code",
   "execution_count": 24,
   "metadata": {},
   "outputs": [],
   "source": [
    "rownum = df[df['YearsSinceLastPromotion'].isna()].index[0]\n",
    "\n",
    "df.at[rownum,'YearsSinceLastPromotion'] = df['YearsSinceLastPromotion'].median()"
   ]
  },
  {
   "cell_type": "markdown",
   "metadata": {},
   "source": [
    "**Let's check if it worked**"
   ]
  },
  {
   "cell_type": "code",
   "execution_count": 25,
   "metadata": {},
   "outputs": [
    {
     "data": {
      "text/html": [
       "<div>\n",
       "<style scoped>\n",
       "    .dataframe tbody tr th:only-of-type {\n",
       "        vertical-align: middle;\n",
       "    }\n",
       "\n",
       "    .dataframe tbody tr th {\n",
       "        vertical-align: top;\n",
       "    }\n",
       "\n",
       "    .dataframe thead th {\n",
       "        text-align: right;\n",
       "    }\n",
       "</style>\n",
       "<table border=\"1\" class=\"dataframe\">\n",
       "  <thead>\n",
       "    <tr style=\"text-align: right;\">\n",
       "      <th></th>\n",
       "      <th>Age</th>\n",
       "      <th>Attrition</th>\n",
       "      <th>BusinessTravel</th>\n",
       "      <th>DailyRate</th>\n",
       "      <th>Department</th>\n",
       "      <th>DistanceFromHome</th>\n",
       "      <th>Education</th>\n",
       "      <th>EducationField</th>\n",
       "      <th>EmployeeNumber</th>\n",
       "      <th>EnvironmentSatisfaction</th>\n",
       "      <th>...</th>\n",
       "      <th>PerformanceRating</th>\n",
       "      <th>RelationshipSatisfaction</th>\n",
       "      <th>StockOptionLevel</th>\n",
       "      <th>TotalWorkingYears</th>\n",
       "      <th>TrainingTimesLastYear</th>\n",
       "      <th>WorkLifeBalance</th>\n",
       "      <th>YearsAtCompany</th>\n",
       "      <th>YearsInCurrentRole</th>\n",
       "      <th>YearsSinceLastPromotion</th>\n",
       "      <th>YearsWithCurrManager</th>\n",
       "    </tr>\n",
       "  </thead>\n",
       "  <tbody>\n",
       "  </tbody>\n",
       "</table>\n",
       "<p>0 rows × 33 columns</p>\n",
       "</div>"
      ],
      "text/plain": [
       "Empty DataFrame\n",
       "Columns: [Age, Attrition, BusinessTravel, DailyRate, Department, DistanceFromHome, Education, EducationField, EmployeeNumber, EnvironmentSatisfaction, Gender, HourlyRate, JobInvolvement, JobLevel, JobRole, JobSatisfaction, MaritalStatus, MonthlyIncome, MonthlyRate, NumCompaniesWorked, Over18, OverTime, PercentSalaryHike, PerformanceRating, RelationshipSatisfaction, StockOptionLevel, TotalWorkingYears, TrainingTimesLastYear, WorkLifeBalance, YearsAtCompany, YearsInCurrentRole, YearsSinceLastPromotion, YearsWithCurrManager]\n",
       "Index: []\n",
       "\n",
       "[0 rows x 33 columns]"
      ]
     },
     "execution_count": 25,
     "metadata": {},
     "output_type": "execute_result"
    }
   ],
   "source": [
    "df[df['YearsSinceLastPromotion'].isna()]"
   ]
  },
  {
   "cell_type": "markdown",
   "metadata": {},
   "source": [
    "**Now for gender**"
   ]
  },
  {
   "cell_type": "code",
   "execution_count": 26,
   "metadata": {},
   "outputs": [
    {
     "data": {
      "text/plain": [
       "<matplotlib.axes._subplots.AxesSubplot at 0x29e71042748>"
      ]
     },
     "execution_count": 26,
     "metadata": {},
     "output_type": "execute_result"
    },
    {
     "data": {
      "image/png": "[encoded data removed]",
      "text/plain": [
       "<Figure size 432x288 with 1 Axes>"
      ]
     },
     "metadata": {
      "needs_background": "light"
     },
     "output_type": "display_data"
    }
   ],
   "source": [
    "sns.countplot(x = 'Gender',data = df)"
   ]
  },
  {
   "cell_type": "code",
   "execution_count": 27,
   "metadata": {},
   "outputs": [
    {
     "data": {
      "text/html": [
       "<div>\n",
       "<style scoped>\n",
       "    .dataframe tbody tr th:only-of-type {\n",
       "        vertical-align: middle;\n",
       "    }\n",
       "\n",
       "    .dataframe tbody tr th {\n",
       "        vertical-align: top;\n",
       "    }\n",
       "\n",
       "    .dataframe thead th {\n",
       "        text-align: right;\n",
       "    }\n",
       "</style>\n",
       "<table border=\"1\" class=\"dataframe\">\n",
       "  <thead>\n",
       "    <tr style=\"text-align: right;\">\n",
       "      <th></th>\n",
       "      <th>Age</th>\n",
       "      <th>Attrition</th>\n",
       "      <th>BusinessTravel</th>\n",
       "      <th>DailyRate</th>\n",
       "      <th>Department</th>\n",
       "      <th>DistanceFromHome</th>\n",
       "      <th>Education</th>\n",
       "      <th>EducationField</th>\n",
       "      <th>EmployeeNumber</th>\n",
       "      <th>EnvironmentSatisfaction</th>\n",
       "      <th>...</th>\n",
       "      <th>PerformanceRating</th>\n",
       "      <th>RelationshipSatisfaction</th>\n",
       "      <th>StockOptionLevel</th>\n",
       "      <th>TotalWorkingYears</th>\n",
       "      <th>TrainingTimesLastYear</th>\n",
       "      <th>WorkLifeBalance</th>\n",
       "      <th>YearsAtCompany</th>\n",
       "      <th>YearsInCurrentRole</th>\n",
       "      <th>YearsSinceLastPromotion</th>\n",
       "      <th>YearsWithCurrManager</th>\n",
       "    </tr>\n",
       "  </thead>\n",
       "  <tbody>\n",
       "  </tbody>\n",
       "</table>\n",
       "<p>0 rows × 33 columns</p>\n",
       "</div>"
      ],
      "text/plain": [
       "Empty DataFrame\n",
       "Columns: [Age, Attrition, BusinessTravel, DailyRate, Department, DistanceFromHome, Education, EducationField, EmployeeNumber, EnvironmentSatisfaction, Gender, HourlyRate, JobInvolvement, JobLevel, JobRole, JobSatisfaction, MaritalStatus, MonthlyIncome, MonthlyRate, NumCompaniesWorked, Over18, OverTime, PercentSalaryHike, PerformanceRating, RelationshipSatisfaction, StockOptionLevel, TotalWorkingYears, TrainingTimesLastYear, WorkLifeBalance, YearsAtCompany, YearsInCurrentRole, YearsSinceLastPromotion, YearsWithCurrManager]\n",
       "Index: []\n",
       "\n",
       "[0 rows x 33 columns]"
      ]
     },
     "execution_count": 27,
     "metadata": {},
     "output_type": "execute_result"
    }
   ],
   "source": [
    "rownum = df[df['Gender'].isna()].index[0]\n",
    "\n",
    "df.at[rownum,'Gender'] = df['Gender'].mode()\n",
    "df[df['Gender'].isna()]"
   ]
  },
  {
   "cell_type": "markdown",
   "metadata": {},
   "source": [
    "**Now for Job Level**"
   ]
  },
  {
   "cell_type": "code",
   "execution_count": 28,
   "metadata": {},
   "outputs": [
    {
     "data": {
      "text/plain": [
       "<matplotlib.axes._subplots.AxesSubplot at 0x29e710fcdc8>"
      ]
     },
     "execution_count": 28,
     "metadata": {},
     "output_type": "execute_result"
    },
    {
     "data": {
      "image/png": "[encoded data removed]",
      "text/plain": [
       "<Figure size 432x288 with 1 Axes>"
      ]
     },
     "metadata": {
      "needs_background": "light"
     },
     "output_type": "display_data"
    }
   ],
   "source": [
    "sns.countplot(x = \"JobLevel\",data = df)"
   ]
  },
  {
   "cell_type": "code",
   "execution_count": 29,
   "metadata": {},
   "outputs": [
    {
     "data": {
      "text/html": [
       "<div>\n",
       "<style scoped>\n",
       "    .dataframe tbody tr th:only-of-type {\n",
       "        vertical-align: middle;\n",
       "    }\n",
       "\n",
       "    .dataframe tbody tr th {\n",
       "        vertical-align: top;\n",
       "    }\n",
       "\n",
       "    .dataframe thead th {\n",
       "        text-align: right;\n",
       "    }\n",
       "</style>\n",
       "<table border=\"1\" class=\"dataframe\">\n",
       "  <thead>\n",
       "    <tr style=\"text-align: right;\">\n",
       "      <th></th>\n",
       "      <th>Age</th>\n",
       "      <th>Attrition</th>\n",
       "      <th>BusinessTravel</th>\n",
       "      <th>DailyRate</th>\n",
       "      <th>Department</th>\n",
       "      <th>DistanceFromHome</th>\n",
       "      <th>Education</th>\n",
       "      <th>EducationField</th>\n",
       "      <th>EmployeeNumber</th>\n",
       "      <th>EnvironmentSatisfaction</th>\n",
       "      <th>...</th>\n",
       "      <th>PerformanceRating</th>\n",
       "      <th>RelationshipSatisfaction</th>\n",
       "      <th>StockOptionLevel</th>\n",
       "      <th>TotalWorkingYears</th>\n",
       "      <th>TrainingTimesLastYear</th>\n",
       "      <th>WorkLifeBalance</th>\n",
       "      <th>YearsAtCompany</th>\n",
       "      <th>YearsInCurrentRole</th>\n",
       "      <th>YearsSinceLastPromotion</th>\n",
       "      <th>YearsWithCurrManager</th>\n",
       "    </tr>\n",
       "  </thead>\n",
       "  <tbody>\n",
       "  </tbody>\n",
       "</table>\n",
       "<p>0 rows × 33 columns</p>\n",
       "</div>"
      ],
      "text/plain": [
       "Empty DataFrame\n",
       "Columns: [Age, Attrition, BusinessTravel, DailyRate, Department, DistanceFromHome, Education, EducationField, EmployeeNumber, EnvironmentSatisfaction, Gender, HourlyRate, JobInvolvement, JobLevel, JobRole, JobSatisfaction, MaritalStatus, MonthlyIncome, MonthlyRate, NumCompaniesWorked, Over18, OverTime, PercentSalaryHike, PerformanceRating, RelationshipSatisfaction, StockOptionLevel, TotalWorkingYears, TrainingTimesLastYear, WorkLifeBalance, YearsAtCompany, YearsInCurrentRole, YearsSinceLastPromotion, YearsWithCurrManager]\n",
       "Index: []\n",
       "\n",
       "[0 rows x 33 columns]"
      ]
     },
     "execution_count": 29,
     "metadata": {},
     "output_type": "execute_result"
    }
   ],
   "source": [
    "rownum = df[df['JobLevel'].isna()].index[0]\n",
    "\n",
    "df.at[rownum,'JobLevel'] = df['JobLevel'].median()\n",
    "df[df['JobLevel'].isna()]"
   ]
  },
  {
   "cell_type": "markdown",
   "metadata": {},
   "source": [
    "**Now for Over Time**"
   ]
  },
  {
   "cell_type": "code",
   "execution_count": 30,
   "metadata": {},
   "outputs": [
    {
     "data": {
      "text/plain": [
       "<matplotlib.axes._subplots.AxesSubplot at 0x29e711530c8>"
      ]
     },
     "execution_count": 30,
     "metadata": {},
     "output_type": "execute_result"
    },
    {
     "data": {
      "image/png": "[encoded data removed]",
      "text/plain": [
       "<Figure size 432x288 with 1 Axes>"
      ]
     },
     "metadata": {
      "needs_background": "light"
     },
     "output_type": "display_data"
    }
   ],
   "source": [
    "sns.countplot(x = \"OverTime\",data = df)"
   ]
  },
  {
   "cell_type": "code",
   "execution_count": 31,
   "metadata": {},
   "outputs": [
    {
     "data": {
      "text/html": [
       "<div>\n",
       "<style scoped>\n",
       "    .dataframe tbody tr th:only-of-type {\n",
       "        vertical-align: middle;\n",
       "    }\n",
       "\n",
       "    .dataframe tbody tr th {\n",
       "        vertical-align: top;\n",
       "    }\n",
       "\n",
       "    .dataframe thead th {\n",
       "        text-align: right;\n",
       "    }\n",
       "</style>\n",
       "<table border=\"1\" class=\"dataframe\">\n",
       "  <thead>\n",
       "    <tr style=\"text-align: right;\">\n",
       "      <th></th>\n",
       "      <th>Age</th>\n",
       "      <th>Attrition</th>\n",
       "      <th>BusinessTravel</th>\n",
       "      <th>DailyRate</th>\n",
       "      <th>Department</th>\n",
       "      <th>DistanceFromHome</th>\n",
       "      <th>Education</th>\n",
       "      <th>EducationField</th>\n",
       "      <th>EmployeeNumber</th>\n",
       "      <th>EnvironmentSatisfaction</th>\n",
       "      <th>...</th>\n",
       "      <th>PerformanceRating</th>\n",
       "      <th>RelationshipSatisfaction</th>\n",
       "      <th>StockOptionLevel</th>\n",
       "      <th>TotalWorkingYears</th>\n",
       "      <th>TrainingTimesLastYear</th>\n",
       "      <th>WorkLifeBalance</th>\n",
       "      <th>YearsAtCompany</th>\n",
       "      <th>YearsInCurrentRole</th>\n",
       "      <th>YearsSinceLastPromotion</th>\n",
       "      <th>YearsWithCurrManager</th>\n",
       "    </tr>\n",
       "  </thead>\n",
       "  <tbody>\n",
       "  </tbody>\n",
       "</table>\n",
       "<p>0 rows × 33 columns</p>\n",
       "</div>"
      ],
      "text/plain": [
       "Empty DataFrame\n",
       "Columns: [Age, Attrition, BusinessTravel, DailyRate, Department, DistanceFromHome, Education, EducationField, EmployeeNumber, EnvironmentSatisfaction, Gender, HourlyRate, JobInvolvement, JobLevel, JobRole, JobSatisfaction, MaritalStatus, MonthlyIncome, MonthlyRate, NumCompaniesWorked, Over18, OverTime, PercentSalaryHike, PerformanceRating, RelationshipSatisfaction, StockOptionLevel, TotalWorkingYears, TrainingTimesLastYear, WorkLifeBalance, YearsAtCompany, YearsInCurrentRole, YearsSinceLastPromotion, YearsWithCurrManager]\n",
       "Index: []\n",
       "\n",
       "[0 rows x 33 columns]"
      ]
     },
     "execution_count": 31,
     "metadata": {},
     "output_type": "execute_result"
    }
   ],
   "source": [
    "rownum = df[df['OverTime'].isna()].index[0]\n",
    "\n",
    "df.at[rownum,'OverTime'] = df['OverTime'].mode()\n",
    "df[df['OverTime'].isna()]"
   ]
  },
  {
   "cell_type": "markdown",
   "metadata": {},
   "source": [
    "**Now for Percent Salary Hike**"
   ]
  },
  {
   "cell_type": "code",
   "execution_count": 32,
   "metadata": {},
   "outputs": [
    {
     "data": {
      "text/plain": [
       "<matplotlib.axes._subplots.AxesSubplot at 0x29e711caa48>"
      ]
     },
     "execution_count": 32,
     "metadata": {},
     "output_type": "execute_result"
    },
    {
     "data": {
      "image/png": "[encoded data removed]",
      "text/plain": [
       "<Figure size 432x288 with 1 Axes>"
      ]
     },
     "metadata": {
      "needs_background": "light"
     },
     "output_type": "display_data"
    }
   ],
   "source": [
    "sns.countplot(x = 'PercentSalaryHike',data = df)"
   ]
  },
  {
   "cell_type": "code",
   "execution_count": 33,
   "metadata": {},
   "outputs": [
    {
     "data": {
      "text/html": [
       "<div>\n",
       "<style scoped>\n",
       "    .dataframe tbody tr th:only-of-type {\n",
       "        vertical-align: middle;\n",
       "    }\n",
       "\n",
       "    .dataframe tbody tr th {\n",
       "        vertical-align: top;\n",
       "    }\n",
       "\n",
       "    .dataframe thead th {\n",
       "        text-align: right;\n",
       "    }\n",
       "</style>\n",
       "<table border=\"1\" class=\"dataframe\">\n",
       "  <thead>\n",
       "    <tr style=\"text-align: right;\">\n",
       "      <th></th>\n",
       "      <th>Age</th>\n",
       "      <th>Attrition</th>\n",
       "      <th>BusinessTravel</th>\n",
       "      <th>DailyRate</th>\n",
       "      <th>Department</th>\n",
       "      <th>DistanceFromHome</th>\n",
       "      <th>Education</th>\n",
       "      <th>EducationField</th>\n",
       "      <th>EmployeeNumber</th>\n",
       "      <th>EnvironmentSatisfaction</th>\n",
       "      <th>...</th>\n",
       "      <th>PerformanceRating</th>\n",
       "      <th>RelationshipSatisfaction</th>\n",
       "      <th>StockOptionLevel</th>\n",
       "      <th>TotalWorkingYears</th>\n",
       "      <th>TrainingTimesLastYear</th>\n",
       "      <th>WorkLifeBalance</th>\n",
       "      <th>YearsAtCompany</th>\n",
       "      <th>YearsInCurrentRole</th>\n",
       "      <th>YearsSinceLastPromotion</th>\n",
       "      <th>YearsWithCurrManager</th>\n",
       "    </tr>\n",
       "  </thead>\n",
       "  <tbody>\n",
       "  </tbody>\n",
       "</table>\n",
       "<p>0 rows × 33 columns</p>\n",
       "</div>"
      ],
      "text/plain": [
       "Empty DataFrame\n",
       "Columns: [Age, Attrition, BusinessTravel, DailyRate, Department, DistanceFromHome, Education, EducationField, EmployeeNumber, EnvironmentSatisfaction, Gender, HourlyRate, JobInvolvement, JobLevel, JobRole, JobSatisfaction, MaritalStatus, MonthlyIncome, MonthlyRate, NumCompaniesWorked, Over18, OverTime, PercentSalaryHike, PerformanceRating, RelationshipSatisfaction, StockOptionLevel, TotalWorkingYears, TrainingTimesLastYear, WorkLifeBalance, YearsAtCompany, YearsInCurrentRole, YearsSinceLastPromotion, YearsWithCurrManager]\n",
       "Index: []\n",
       "\n",
       "[0 rows x 33 columns]"
      ]
     },
     "execution_count": 33,
     "metadata": {},
     "output_type": "execute_result"
    }
   ],
   "source": [
    "rownum = df[df['PercentSalaryHike'].isna()].index[0]\n",
    "\n",
    "df.at[rownum,'PercentSalaryHike'] = df['PercentSalaryHike'].median()\n",
    "df[df['PercentSalaryHike'].isna()]"
   ]
  },
  {
   "cell_type": "markdown",
   "metadata": {},
   "source": [
    "**Now for Performance Rating**"
   ]
  },
  {
   "cell_type": "code",
   "execution_count": 34,
   "metadata": {},
   "outputs": [
    {
     "data": {
      "text/plain": [
       "<matplotlib.axes._subplots.AxesSubplot at 0x29e7126b608>"
      ]
     },
     "execution_count": 34,
     "metadata": {},
     "output_type": "execute_result"
    },
    {
     "data": {
      "image/png": "[encoded data removed]",
      "text/plain": [
       "<Figure size 432x288 with 1 Axes>"
      ]
     },
     "metadata": {
      "needs_background": "light"
     },
     "output_type": "display_data"
    }
   ],
   "source": [
    "sns.countplot(x = 'PerformanceRating',data = df)"
   ]
  },
  {
   "cell_type": "code",
   "execution_count": 35,
   "metadata": {},
   "outputs": [
    {
     "data": {
      "text/html": [
       "<div>\n",
       "<style scoped>\n",
       "    .dataframe tbody tr th:only-of-type {\n",
       "        vertical-align: middle;\n",
       "    }\n",
       "\n",
       "    .dataframe tbody tr th {\n",
       "        vertical-align: top;\n",
       "    }\n",
       "\n",
       "    .dataframe thead th {\n",
       "        text-align: right;\n",
       "    }\n",
       "</style>\n",
       "<table border=\"1\" class=\"dataframe\">\n",
       "  <thead>\n",
       "    <tr style=\"text-align: right;\">\n",
       "      <th></th>\n",
       "      <th>Age</th>\n",
       "      <th>Attrition</th>\n",
       "      <th>BusinessTravel</th>\n",
       "      <th>DailyRate</th>\n",
       "      <th>Department</th>\n",
       "      <th>DistanceFromHome</th>\n",
       "      <th>Education</th>\n",
       "      <th>EducationField</th>\n",
       "      <th>EmployeeNumber</th>\n",
       "      <th>EnvironmentSatisfaction</th>\n",
       "      <th>...</th>\n",
       "      <th>PerformanceRating</th>\n",
       "      <th>RelationshipSatisfaction</th>\n",
       "      <th>StockOptionLevel</th>\n",
       "      <th>TotalWorkingYears</th>\n",
       "      <th>TrainingTimesLastYear</th>\n",
       "      <th>WorkLifeBalance</th>\n",
       "      <th>YearsAtCompany</th>\n",
       "      <th>YearsInCurrentRole</th>\n",
       "      <th>YearsSinceLastPromotion</th>\n",
       "      <th>YearsWithCurrManager</th>\n",
       "    </tr>\n",
       "  </thead>\n",
       "  <tbody>\n",
       "  </tbody>\n",
       "</table>\n",
       "<p>0 rows × 33 columns</p>\n",
       "</div>"
      ],
      "text/plain": [
       "Empty DataFrame\n",
       "Columns: [Age, Attrition, BusinessTravel, DailyRate, Department, DistanceFromHome, Education, EducationField, EmployeeNumber, EnvironmentSatisfaction, Gender, HourlyRate, JobInvolvement, JobLevel, JobRole, JobSatisfaction, MaritalStatus, MonthlyIncome, MonthlyRate, NumCompaniesWorked, Over18, OverTime, PercentSalaryHike, PerformanceRating, RelationshipSatisfaction, StockOptionLevel, TotalWorkingYears, TrainingTimesLastYear, WorkLifeBalance, YearsAtCompany, YearsInCurrentRole, YearsSinceLastPromotion, YearsWithCurrManager]\n",
       "Index: []\n",
       "\n",
       "[0 rows x 33 columns]"
      ]
     },
     "execution_count": 35,
     "metadata": {},
     "output_type": "execute_result"
    }
   ],
   "source": [
    "rownum = df[df['PerformanceRating'].isna()].index[0]\n",
    "\n",
    "df.at[rownum,'PerformanceRating'] = df['PerformanceRating'].mode()\n",
    "df[df['PerformanceRating'].isna()]"
   ]
  },
  {
   "cell_type": "markdown",
   "metadata": {},
   "source": [
    "**Now Relationship Satisfaction**"
   ]
  },
  {
   "cell_type": "code",
   "execution_count": 36,
   "metadata": {},
   "outputs": [
    {
     "data": {
      "text/plain": [
       "<matplotlib.axes._subplots.AxesSubplot at 0x29e712b3e08>"
      ]
     },
     "execution_count": 36,
     "metadata": {},
     "output_type": "execute_result"
    },
    {
     "data": {
      "image/png": "[encoded data removed]",
      "text/plain": [
       "<Figure size 432x288 with 1 Axes>"
      ]
     },
     "metadata": {
      "needs_background": "light"
     },
     "output_type": "display_data"
    }
   ],
   "source": [
    "sns.countplot(x = 'RelationshipSatisfaction',data = df)"
   ]
  },
  {
   "cell_type": "code",
   "execution_count": 37,
   "metadata": {},
   "outputs": [
    {
     "data": {
      "text/html": [
       "<div>\n",
       "<style scoped>\n",
       "    .dataframe tbody tr th:only-of-type {\n",
       "        vertical-align: middle;\n",
       "    }\n",
       "\n",
       "    .dataframe tbody tr th {\n",
       "        vertical-align: top;\n",
       "    }\n",
       "\n",
       "    .dataframe thead th {\n",
       "        text-align: right;\n",
       "    }\n",
       "</style>\n",
       "<table border=\"1\" class=\"dataframe\">\n",
       "  <thead>\n",
       "    <tr style=\"text-align: right;\">\n",
       "      <th></th>\n",
       "      <th>Age</th>\n",
       "      <th>Attrition</th>\n",
       "      <th>BusinessTravel</th>\n",
       "      <th>DailyRate</th>\n",
       "      <th>Department</th>\n",
       "      <th>DistanceFromHome</th>\n",
       "      <th>Education</th>\n",
       "      <th>EducationField</th>\n",
       "      <th>EmployeeNumber</th>\n",
       "      <th>EnvironmentSatisfaction</th>\n",
       "      <th>...</th>\n",
       "      <th>PerformanceRating</th>\n",
       "      <th>RelationshipSatisfaction</th>\n",
       "      <th>StockOptionLevel</th>\n",
       "      <th>TotalWorkingYears</th>\n",
       "      <th>TrainingTimesLastYear</th>\n",
       "      <th>WorkLifeBalance</th>\n",
       "      <th>YearsAtCompany</th>\n",
       "      <th>YearsInCurrentRole</th>\n",
       "      <th>YearsSinceLastPromotion</th>\n",
       "      <th>YearsWithCurrManager</th>\n",
       "    </tr>\n",
       "  </thead>\n",
       "  <tbody>\n",
       "  </tbody>\n",
       "</table>\n",
       "<p>0 rows × 33 columns</p>\n",
       "</div>"
      ],
      "text/plain": [
       "Empty DataFrame\n",
       "Columns: [Age, Attrition, BusinessTravel, DailyRate, Department, DistanceFromHome, Education, EducationField, EmployeeNumber, EnvironmentSatisfaction, Gender, HourlyRate, JobInvolvement, JobLevel, JobRole, JobSatisfaction, MaritalStatus, MonthlyIncome, MonthlyRate, NumCompaniesWorked, Over18, OverTime, PercentSalaryHike, PerformanceRating, RelationshipSatisfaction, StockOptionLevel, TotalWorkingYears, TrainingTimesLastYear, WorkLifeBalance, YearsAtCompany, YearsInCurrentRole, YearsSinceLastPromotion, YearsWithCurrManager]\n",
       "Index: []\n",
       "\n",
       "[0 rows x 33 columns]"
      ]
     },
     "execution_count": 37,
     "metadata": {},
     "output_type": "execute_result"
    }
   ],
   "source": [
    "rownum = df[df['RelationshipSatisfaction'].isna()].index[0]\n",
    "\n",
    "df.at[rownum,'RelationshipSatisfaction'] = df['RelationshipSatisfaction'].mode()\n",
    "df[df['RelationshipSatisfaction'].isna()]"
   ]
  },
  {
   "cell_type": "markdown",
   "metadata": {},
   "source": [
    "**Now for Distance From Home**"
   ]
  },
  {
   "cell_type": "code",
   "execution_count": 38,
   "metadata": {},
   "outputs": [
    {
     "data": {
      "text/plain": [
       "<matplotlib.axes._subplots.AxesSubplot at 0x29e7132a948>"
      ]
     },
     "execution_count": 38,
     "metadata": {},
     "output_type": "execute_result"
    },
    {
     "data": {
      "image/png": "[encoded data removed]",
      "text/plain": [
       "<Figure size 432x288 with 1 Axes>"
      ]
     },
     "metadata": {
      "needs_background": "light"
     },
     "output_type": "display_data"
    }
   ],
   "source": [
    "sns.distplot(df['DistanceFromHome'].dropna(),kde = False)"
   ]
  },
  {
   "cell_type": "markdown",
   "metadata": {},
   "source": [
    "**We can deal with the NA's through interpolation**"
   ]
  },
  {
   "cell_type": "code",
   "execution_count": 39,
   "metadata": {},
   "outputs": [
    {
     "data": {
      "text/plain": [
       "False    1176\n",
       "Name: DistanceFromHome, dtype: int64"
      ]
     },
     "execution_count": 39,
     "metadata": {},
     "output_type": "execute_result"
    }
   ],
   "source": [
    "df['DistanceFromHome'].interpolate(inplace = True)\n",
    "df['DistanceFromHome'].isna().value_counts()"
   ]
  },
  {
   "cell_type": "markdown",
   "metadata": {},
   "source": [
    "**The outlier's will be handled by discretization**"
   ]
  },
  {
   "cell_type": "code",
   "execution_count": 40,
   "metadata": {},
   "outputs": [],
   "source": [
    "df['DistanceFromHome'] = pd.qcut(df['DistanceFromHome'],q = 4,labels = labels)"
   ]
  },
  {
   "cell_type": "code",
   "execution_count": 41,
   "metadata": {},
   "outputs": [
    {
     "data": {
      "text/plain": [
       "<matplotlib.axes._subplots.AxesSubplot at 0x29e713f2108>"
      ]
     },
     "execution_count": 41,
     "metadata": {},
     "output_type": "execute_result"
    },
    {
     "data": {
      "image/png": "[encoded data removed]",
      "text/plain": [
       "<Figure size 432x288 with 1 Axes>"
      ]
     },
     "metadata": {
      "needs_background": "light"
     },
     "output_type": "display_data"
    }
   ],
   "source": [
    "sns.countplot(x = 'DistanceFromHome',data = df)"
   ]
  },
  {
   "cell_type": "code",
   "execution_count": 44,
   "metadata": {},
   "outputs": [
    {
     "data": {
      "text/plain": [
       "Series([], dtype: int64)"
      ]
     },
     "execution_count": 44,
     "metadata": {},
     "output_type": "execute_result"
    }
   ],
   "source": [
    "df.isna().sum()[df.isna().sum() > 0]"
   ]
  },
  {
   "cell_type": "markdown",
   "metadata": {},
   "source": [
    "**Now that there are no more NA's, let's explore the remaining fields**"
   ]
  },
  {
   "cell_type": "code",
   "execution_count": 42,
   "metadata": {},
   "outputs": [
    {
     "data": {
      "text/plain": [
       "<matplotlib.axes._subplots.AxesSubplot at 0x29e71470b08>"
      ]
     },
     "execution_count": 42,
     "metadata": {},
     "output_type": "execute_result"
    },
    {
     "data": {
      "image/png": "[encoded data removed]",
      "text/plain": [
       "<Figure size 432x288 with 1 Axes>"
      ]
     },
     "metadata": {
      "needs_background": "light"
     },
     "output_type": "display_data"
    }
   ],
   "source": [
    "sns.distplot(df['DailyRate'],kde = False,bins = 35)"
   ]
  },
  {
   "cell_type": "markdown",
   "metadata": {},
   "source": [
    "**This field has to be discretized**"
   ]
  },
  {
   "cell_type": "code",
   "execution_count": 43,
   "metadata": {},
   "outputs": [
    {
     "name": "stdout",
     "output_type": "stream",
     "text": [
      "102\n",
      "1499\n"
     ]
    }
   ],
   "source": [
    "print(df['DailyRate'].min())\n",
    "print(df['DailyRate'].max())"
   ]
  },
  {
   "cell_type": "code",
   "execution_count": 21,
   "metadata": {},
   "outputs": [],
   "source": [
    "df['DailyRate'] = pd.qcut(df['DailyRate'],4,labels = labels)"
   ]
  },
  {
   "cell_type": "code",
   "execution_count": 22,
   "metadata": {},
   "outputs": [
    {
     "data": {
      "text/html": [
       "<div>\n",
       "<style scoped>\n",
       "    .dataframe tbody tr th:only-of-type {\n",
       "        vertical-align: middle;\n",
       "    }\n",
       "\n",
       "    .dataframe tbody tr th {\n",
       "        vertical-align: top;\n",
       "    }\n",
       "\n",
       "    .dataframe thead th {\n",
       "        text-align: right;\n",
       "    }\n",
       "</style>\n",
       "<table border=\"1\" class=\"dataframe\">\n",
       "  <thead>\n",
       "    <tr style=\"text-align: right;\">\n",
       "      <th></th>\n",
       "      <th>Age</th>\n",
       "      <th>Attrition</th>\n",
       "      <th>BusinessTravel</th>\n",
       "      <th>DailyRate</th>\n",
       "      <th>Department</th>\n",
       "      <th>DistanceFromHome</th>\n",
       "      <th>Education</th>\n",
       "      <th>EducationField</th>\n",
       "      <th>EmployeeCount</th>\n",
       "      <th>EmployeeNumber</th>\n",
       "      <th>...</th>\n",
       "      <th>RelationshipSatisfaction</th>\n",
       "      <th>StandardHours</th>\n",
       "      <th>StockOptionLevel</th>\n",
       "      <th>TotalWorkingYears</th>\n",
       "      <th>TrainingTimesLastYear</th>\n",
       "      <th>WorkLifeBalance</th>\n",
       "      <th>YearsAtCompany</th>\n",
       "      <th>YearsInCurrentRole</th>\n",
       "      <th>YearsSinceLastPromotion</th>\n",
       "      <th>YearsWithCurrManager</th>\n",
       "    </tr>\n",
       "  </thead>\n",
       "  <tbody>\n",
       "    <tr>\n",
       "      <td>0</td>\n",
       "      <td>Young Adult</td>\n",
       "      <td>No</td>\n",
       "      <td>Travel_Rarely</td>\n",
       "      <td>Very High</td>\n",
       "      <td>Sales</td>\n",
       "      <td>16.0</td>\n",
       "      <td>1</td>\n",
       "      <td>Life Sciences</td>\n",
       "      <td>1</td>\n",
       "      <td>1479</td>\n",
       "      <td>...</td>\n",
       "      <td>3.0</td>\n",
       "      <td>80</td>\n",
       "      <td>2</td>\n",
       "      <td>4.0</td>\n",
       "      <td>2</td>\n",
       "      <td>2</td>\n",
       "      <td>2</td>\n",
       "      <td>1</td>\n",
       "      <td>2.0</td>\n",
       "      <td>2</td>\n",
       "    </tr>\n",
       "    <tr>\n",
       "      <td>1</td>\n",
       "      <td>Elderly</td>\n",
       "      <td>No</td>\n",
       "      <td>Travel_Rarely</td>\n",
       "      <td>Very High</td>\n",
       "      <td>Research &amp; Development</td>\n",
       "      <td>11.0</td>\n",
       "      <td>4</td>\n",
       "      <td>Life Sciences</td>\n",
       "      <td>1</td>\n",
       "      <td>813</td>\n",
       "      <td>...</td>\n",
       "      <td>2.0</td>\n",
       "      <td>80</td>\n",
       "      <td>1</td>\n",
       "      <td>9.0</td>\n",
       "      <td>3</td>\n",
       "      <td>3</td>\n",
       "      <td>5</td>\n",
       "      <td>2</td>\n",
       "      <td>1.0</td>\n",
       "      <td>4</td>\n",
       "    </tr>\n",
       "    <tr>\n",
       "      <td>2</td>\n",
       "      <td>Middle Aged</td>\n",
       "      <td>No</td>\n",
       "      <td>Travel_Rarely</td>\n",
       "      <td>Intermediate</td>\n",
       "      <td>Sales</td>\n",
       "      <td>14.0</td>\n",
       "      <td>2</td>\n",
       "      <td>Medical</td>\n",
       "      <td>1</td>\n",
       "      <td>936</td>\n",
       "      <td>...</td>\n",
       "      <td>1.0</td>\n",
       "      <td>80</td>\n",
       "      <td>0</td>\n",
       "      <td>10.0</td>\n",
       "      <td>6</td>\n",
       "      <td>3</td>\n",
       "      <td>5</td>\n",
       "      <td>4</td>\n",
       "      <td>0.0</td>\n",
       "      <td>3</td>\n",
       "    </tr>\n",
       "    <tr>\n",
       "      <td>3</td>\n",
       "      <td>Elderly</td>\n",
       "      <td>No</td>\n",
       "      <td>Non-Travel</td>\n",
       "      <td>Low</td>\n",
       "      <td>Research &amp; Development</td>\n",
       "      <td>8.0</td>\n",
       "      <td>1</td>\n",
       "      <td>Medical</td>\n",
       "      <td>1</td>\n",
       "      <td>1278</td>\n",
       "      <td>...</td>\n",
       "      <td>4.0</td>\n",
       "      <td>80</td>\n",
       "      <td>1</td>\n",
       "      <td>34.0</td>\n",
       "      <td>3</td>\n",
       "      <td>3</td>\n",
       "      <td>33</td>\n",
       "      <td>9</td>\n",
       "      <td>15.0</td>\n",
       "      <td>0</td>\n",
       "    </tr>\n",
       "    <tr>\n",
       "      <td>4</td>\n",
       "      <td>Young Adult</td>\n",
       "      <td>No</td>\n",
       "      <td>Travel_Rarely</td>\n",
       "      <td>High</td>\n",
       "      <td>Research &amp; Development</td>\n",
       "      <td>16.0</td>\n",
       "      <td>3</td>\n",
       "      <td>Life Sciences</td>\n",
       "      <td>1</td>\n",
       "      <td>1529</td>\n",
       "      <td>...</td>\n",
       "      <td>4.0</td>\n",
       "      <td>80</td>\n",
       "      <td>0</td>\n",
       "      <td>11.0</td>\n",
       "      <td>3</td>\n",
       "      <td>1</td>\n",
       "      <td>11</td>\n",
       "      <td>8</td>\n",
       "      <td>3.0</td>\n",
       "      <td>3</td>\n",
       "    </tr>\n",
       "  </tbody>\n",
       "</table>\n",
       "<p>5 rows × 35 columns</p>\n",
       "</div>"
      ],
      "text/plain": [
       "           Age Attrition BusinessTravel     DailyRate              Department  \\\n",
       "0  Young Adult        No  Travel_Rarely     Very High                   Sales   \n",
       "1      Elderly        No  Travel_Rarely     Very High  Research & Development   \n",
       "2  Middle Aged        No  Travel_Rarely  Intermediate                   Sales   \n",
       "3      Elderly        No     Non-Travel           Low  Research & Development   \n",
       "4  Young Adult        No  Travel_Rarely          High  Research & Development   \n",
       "\n",
       "   DistanceFromHome  Education EducationField  EmployeeCount  EmployeeNumber  \\\n",
       "0              16.0          1  Life Sciences              1            1479   \n",
       "1              11.0          4  Life Sciences              1             813   \n",
       "2              14.0          2        Medical              1             936   \n",
       "3               8.0          1        Medical              1            1278   \n",
       "4              16.0          3  Life Sciences              1            1529   \n",
       "\n",
       "   ...  RelationshipSatisfaction StandardHours  StockOptionLevel  \\\n",
       "0  ...                       3.0            80                 2   \n",
       "1  ...                       2.0            80                 1   \n",
       "2  ...                       1.0            80                 0   \n",
       "3  ...                       4.0            80                 1   \n",
       "4  ...                       4.0            80                 0   \n",
       "\n",
       "   TotalWorkingYears  TrainingTimesLastYear WorkLifeBalance  YearsAtCompany  \\\n",
       "0                4.0                      2               2               2   \n",
       "1                9.0                      3               3               5   \n",
       "2               10.0                      6               3               5   \n",
       "3               34.0                      3               3              33   \n",
       "4               11.0                      3               1              11   \n",
       "\n",
       "  YearsInCurrentRole  YearsSinceLastPromotion  YearsWithCurrManager  \n",
       "0                  1                      2.0                     2  \n",
       "1                  2                      1.0                     4  \n",
       "2                  4                      0.0                     3  \n",
       "3                  9                     15.0                     0  \n",
       "4                  8                      3.0                     3  \n",
       "\n",
       "[5 rows x 35 columns]"
      ]
     },
     "execution_count": 22,
     "metadata": {},
     "output_type": "execute_result"
    }
   ],
   "source": [
    "df.head()"
   ]
  },
  {
   "cell_type": "code",
   "execution_count": 48,
   "metadata": {},
   "outputs": [
    {
     "data": {
      "text/plain": [
       "1176"
      ]
     },
     "execution_count": 48,
     "metadata": {},
     "output_type": "execute_result"
    }
   ],
   "source": [
    "df['EmployeeNumber'].nunique()"
   ]
  },
  {
   "cell_type": "markdown",
   "metadata": {},
   "source": [
    "**The employee number field is a unique identifier. It doesn't help us identify causes of attrition. Therefore it can be removed**"
   ]
  },
  {
   "cell_type": "code",
   "execution_count": 49,
   "metadata": {},
   "outputs": [],
   "source": [
    "df.drop(['EmployeeNumber'],axis = 1,inplace = True)"
   ]
  },
  {
   "cell_type": "code",
   "execution_count": 50,
   "metadata": {},
   "outputs": [
    {
     "data": {
      "text/plain": [
       "Index(['Age', 'Attrition', 'BusinessTravel', 'DailyRate', 'Department',\n",
       "       'DistanceFromHome', 'Education', 'EducationField',\n",
       "       'EnvironmentSatisfaction', 'Gender', 'HourlyRate', 'JobInvolvement',\n",
       "       'JobLevel', 'JobRole', 'JobSatisfaction', 'MaritalStatus',\n",
       "       'MonthlyIncome', 'MonthlyRate', 'NumCompaniesWorked', 'Over18',\n",
       "       'OverTime', 'PercentSalaryHike', 'PerformanceRating',\n",
       "       'RelationshipSatisfaction', 'StockOptionLevel', 'TotalWorkingYears',\n",
       "       'TrainingTimesLastYear', 'WorkLifeBalance', 'YearsAtCompany',\n",
       "       'YearsInCurrentRole', 'YearsSinceLastPromotion',\n",
       "       'YearsWithCurrManager'],\n",
       "      dtype='object')"
      ]
     },
     "execution_count": 50,
     "metadata": {},
     "output_type": "execute_result"
    }
   ],
   "source": [
    "df.columns"
   ]
  },
  {
   "cell_type": "code",
   "execution_count": 52,
   "metadata": {},
   "outputs": [
    {
     "data": {
      "text/plain": [
       "<matplotlib.axes._subplots.AxesSubplot at 0x29e78abeb08>"
      ]
     },
     "execution_count": 52,
     "metadata": {},
     "output_type": "execute_result"
    },
    {
     "data": {
      "image/png": "[encoded data removed]",
      "text/plain": [
       "<Figure size 432x288 with 1 Axes>"
      ]
     },
     "metadata": {
      "needs_background": "light"
     },
     "output_type": "display_data"
    }
   ],
   "source": [
    "sns.countplot(x = 'EnvironmentSatisfaction',data = df)"
   ]
  },
  {
   "cell_type": "code",
   "execution_count": 53,
   "metadata": {},
   "outputs": [
    {
     "data": {
      "text/plain": [
       "<matplotlib.axes._subplots.AxesSubplot at 0x29e78aecf08>"
      ]
     },
     "execution_count": 53,
     "metadata": {},
     "output_type": "execute_result"
    },
    {
     "data": {
      "image/png": "[encoded data removed]",
      "text/plain": [
       "<Figure size 432x288 with 1 Axes>"
      ]
     },
     "metadata": {
      "needs_background": "light"
     },
     "output_type": "display_data"
    }
   ],
   "source": [
    "sns.distplot(df['HourlyRate'],kde = False,bins = 30)"
   ]
  },
  {
   "cell_type": "code",
   "execution_count": 54,
   "metadata": {},
   "outputs": [],
   "source": [
    "df['HourlyRate'] = pd.qcut(df['HourlyRate'],4,labels = labels)"
   ]
  },
  {
   "cell_type": "code",
   "execution_count": 58,
   "metadata": {},
   "outputs": [
    {
     "data": {
      "text/plain": [
       "<matplotlib.axes._subplots.AxesSubplot at 0x29e78de9508>"
      ]
     },
     "execution_count": 58,
     "metadata": {},
     "output_type": "execute_result"
    },
    {
     "data": {
      "image/png": "[encoded data removed]",
      "text/plain": [
       "<Figure size 432x288 with 1 Axes>"
      ]
     },
     "metadata": {
      "needs_background": "light"
     },
     "output_type": "display_data"
    }
   ],
   "source": [
    "sns.countplot(x = 'HourlyRate',data = df)"
   ]
  },
  {
   "cell_type": "code",
   "execution_count": 59,
   "metadata": {},
   "outputs": [
    {
     "data": {
      "text/plain": [
       "<matplotlib.axes._subplots.AxesSubplot at 0x29e78e5bd08>"
      ]
     },
     "execution_count": 59,
     "metadata": {},
     "output_type": "execute_result"
    },
    {
     "data": {
      "image/png": "[encoded data removed]",
      "text/plain": [
       "<Figure size 432x288 with 1 Axes>"
      ]
     },
     "metadata": {
      "needs_background": "light"
     },
     "output_type": "display_data"
    }
   ],
   "source": [
    "sns.countplot(x = 'JobInvolvement',data = df)"
   ]
  },
  {
   "cell_type": "code",
   "execution_count": 60,
   "metadata": {},
   "outputs": [
    {
     "data": {
      "text/plain": [
       "<matplotlib.axes._subplots.AxesSubplot at 0x29e78ec0548>"
      ]
     },
     "execution_count": 60,
     "metadata": {},
     "output_type": "execute_result"
    },
    {
     "data": {
      "image/png": "[encoded data removed]",
      "text/plain": [
       "<Figure size 432x288 with 1 Axes>"
      ]
     },
     "metadata": {
      "needs_background": "light"
     },
     "output_type": "display_data"
    }
   ],
   "source": [
    "sns.countplot(x = \"JobSatisfaction\",data = df)"
   ]
  },
  {
   "cell_type": "code",
   "execution_count": 61,
   "metadata": {},
   "outputs": [
    {
     "data": {
      "text/plain": [
       "<matplotlib.axes._subplots.AxesSubplot at 0x29e78f53a48>"
      ]
     },
     "execution_count": 61,
     "metadata": {},
     "output_type": "execute_result"
    },
    {
     "data": {
      "image/png": "[encoded data removed]",
      "text/plain": [
       "<Figure size 432x288 with 1 Axes>"
      ]
     },
     "metadata": {
      "needs_background": "light"
     },
     "output_type": "display_data"
    }
   ],
   "source": [
    "sns.countplot(x = \"MaritalStatus\",data = df)"
   ]
  },
  {
   "cell_type": "code",
   "execution_count": 62,
   "metadata": {},
   "outputs": [
    {
     "data": {
      "text/plain": [
       "<matplotlib.axes._subplots.AxesSubplot at 0x29e78fcbec8>"
      ]
     },
     "execution_count": 62,
     "metadata": {},
     "output_type": "execute_result"
    },
    {
     "data": {
      "image/png": "[encoded data removed]",
      "text/plain": [
       "<Figure size 432x288 with 1 Axes>"
      ]
     },
     "metadata": {
      "needs_background": "light"
     },
     "output_type": "display_data"
    }
   ],
   "source": [
    "sns.distplot(df[\"MonthlyIncome\"],kde = False,bins = 30)"
   ]
  },
  {
   "cell_type": "code",
   "execution_count": 63,
   "metadata": {},
   "outputs": [
    {
     "name": "stdout",
     "output_type": "stream",
     "text": [
      "1009\n",
      "19973\n"
     ]
    }
   ],
   "source": [
    "print(df['MonthlyIncome'].min())\n",
    "print(df['MonthlyIncome'].max())"
   ]
  },
  {
   "cell_type": "code",
   "execution_count": 64,
   "metadata": {},
   "outputs": [],
   "source": [
    "df[\"MonthlyIncome\"] = pd.qcut(df[\"MonthlyIncome\"],q = 4,labels = labels)"
   ]
  },
  {
   "cell_type": "code",
   "execution_count": 65,
   "metadata": {},
   "outputs": [
    {
     "data": {
      "text/plain": [
       "<matplotlib.axes._subplots.AxesSubplot at 0x29e7902ff48>"
      ]
     },
     "execution_count": 65,
     "metadata": {},
     "output_type": "execute_result"
    },
    {
     "data": {
      "image/png": "[encoded data removed]",
      "text/plain": [
       "<Figure size 432x288 with 1 Axes>"
      ]
     },
     "metadata": {
      "needs_background": "light"
     },
     "output_type": "display_data"
    }
   ],
   "source": [
    "sns.countplot('MonthlyIncome',data = df)"
   ]
  },
  {
   "cell_type": "code",
   "execution_count": 66,
   "metadata": {},
   "outputs": [
    {
     "data": {
      "text/plain": [
       "<matplotlib.axes._subplots.AxesSubplot at 0x29e790cd888>"
      ]
     },
     "execution_count": 66,
     "metadata": {},
     "output_type": "execute_result"
    },
    {
     "data": {
      "image/png": "[encoded data removed]",
      "text/plain": [
       "<Figure size 432x288 with 1 Axes>"
      ]
     },
     "metadata": {
      "needs_background": "light"
     },
     "output_type": "display_data"
    }
   ],
   "source": [
    "sns.distplot(df[\"MonthlyRate\"],kde = False,bins = 30)"
   ]
  },
  {
   "cell_type": "code",
   "execution_count": 67,
   "metadata": {},
   "outputs": [],
   "source": [
    "df[\"MonthlyRate\"] = pd.qcut(df[\"MonthlyRate\"],q = 4,labels = labels)"
   ]
  },
  {
   "cell_type": "code",
   "execution_count": 68,
   "metadata": {},
   "outputs": [
    {
     "data": {
      "text/plain": [
       "<matplotlib.axes._subplots.AxesSubplot at 0x29e79215b88>"
      ]
     },
     "execution_count": 68,
     "metadata": {},
     "output_type": "execute_result"
    },
    {
     "data": {
      "image/png": "[encoded data removed]",
      "text/plain": [
       "<Figure size 432x288 with 1 Axes>"
      ]
     },
     "metadata": {
      "needs_background": "light"
     },
     "output_type": "display_data"
    }
   ],
   "source": [
    "sns.countplot('MonthlyRate',data = df)"
   ]
  },
  {
   "cell_type": "code",
   "execution_count": 69,
   "metadata": {},
   "outputs": [
    {
     "data": {
      "text/plain": [
       "<matplotlib.axes._subplots.AxesSubplot at 0x29e792302c8>"
      ]
     },
     "execution_count": 69,
     "metadata": {},
     "output_type": "execute_result"
    },
    {
     "data": {
      "image/png": "[encoded data removed]",
      "text/plain": [
       "<Figure size 432x288 with 1 Axes>"
      ]
     },
     "metadata": {
      "needs_background": "light"
     },
     "output_type": "display_data"
    }
   ],
   "source": [
    "sns.countplot('NumCompaniesWorked',data = df)"
   ]
  },
  {
   "cell_type": "code",
   "execution_count": 71,
   "metadata": {},
   "outputs": [
    {
     "data": {
      "text/plain": [
       "<matplotlib.axes._subplots.AxesSubplot at 0x29e793e3308>"
      ]
     },
     "execution_count": 71,
     "metadata": {},
     "output_type": "execute_result"
    },
    {
     "data": {
      "image/png": "[encoded data removed]",
      "text/plain": [
       "<Figure size 432x288 with 1 Axes>"
      ]
     },
     "metadata": {
      "needs_background": "light"
     },
     "output_type": "display_data"
    }
   ],
   "source": [
    "sns.countplot(x = 'Over18',data = df)"
   ]
  },
  {
   "cell_type": "code",
   "execution_count": 70,
   "metadata": {},
   "outputs": [
    {
     "data": {
      "text/plain": [
       "Y    1176\n",
       "Name: Over18, dtype: int64"
      ]
     },
     "execution_count": 70,
     "metadata": {},
     "output_type": "execute_result"
    }
   ],
   "source": [
    "df['Over18'].value_counts()"
   ]
  },
  {
   "cell_type": "code",
   "execution_count": 72,
   "metadata": {},
   "outputs": [],
   "source": [
    "df.drop(['Over18'],axis = 1,inplace = True)"
   ]
  },
  {
   "cell_type": "code",
   "execution_count": 73,
   "metadata": {},
   "outputs": [
    {
     "data": {
      "text/plain": [
       "Index(['Age', 'Attrition', 'BusinessTravel', 'DailyRate', 'Department',\n",
       "       'DistanceFromHome', 'Education', 'EducationField',\n",
       "       'EnvironmentSatisfaction', 'Gender', 'HourlyRate', 'JobInvolvement',\n",
       "       'JobLevel', 'JobRole', 'JobSatisfaction', 'MaritalStatus',\n",
       "       'MonthlyIncome', 'MonthlyRate', 'NumCompaniesWorked', 'OverTime',\n",
       "       'PercentSalaryHike', 'PerformanceRating', 'RelationshipSatisfaction',\n",
       "       'StockOptionLevel', 'TotalWorkingYears', 'TrainingTimesLastYear',\n",
       "       'WorkLifeBalance', 'YearsAtCompany', 'YearsInCurrentRole',\n",
       "       'YearsSinceLastPromotion', 'YearsWithCurrManager'],\n",
       "      dtype='object')"
      ]
     },
     "execution_count": 73,
     "metadata": {},
     "output_type": "execute_result"
    }
   ],
   "source": [
    "df.columns"
   ]
  },
  {
   "cell_type": "code",
   "execution_count": 74,
   "metadata": {},
   "outputs": [
    {
     "data": {
      "text/plain": [
       "<matplotlib.axes._subplots.AxesSubplot at 0x29e7957b708>"
      ]
     },
     "execution_count": 74,
     "metadata": {},
     "output_type": "execute_result"
    },
    {
     "data": {
      "image/png": "[encoded data removed]",
      "text/plain": [
       "<Figure size 432x288 with 1 Axes>"
      ]
     },
     "metadata": {
      "needs_background": "light"
     },
     "output_type": "display_data"
    }
   ],
   "source": [
    "sns.countplot(x = 'StockOptionLevel',data = df)"
   ]
  },
  {
   "cell_type": "code",
   "execution_count": 75,
   "metadata": {},
   "outputs": [
    {
     "data": {
      "text/plain": [
       "<matplotlib.axes._subplots.AxesSubplot at 0x29e795d0d08>"
      ]
     },
     "execution_count": 75,
     "metadata": {},
     "output_type": "execute_result"
    },
    {
     "data": {
      "image/png": "[encoded data removed]",
      "text/plain": [
       "<Figure size 432x288 with 1 Axes>"
      ]
     },
     "metadata": {
      "needs_background": "light"
     },
     "output_type": "display_data"
    }
   ],
   "source": [
    "sns.countplot(x = 'TrainingTimesLastYear',data = df)"
   ]
  },
  {
   "cell_type": "code",
   "execution_count": 76,
   "metadata": {},
   "outputs": [
    {
     "data": {
      "text/plain": [
       "<matplotlib.axes._subplots.AxesSubplot at 0x29e7a7f9208>"
      ]
     },
     "execution_count": 76,
     "metadata": {},
     "output_type": "execute_result"
    },
    {
     "data": {
      "image/png": "[encoded data removed]",
      "text/plain": [
       "<Figure size 432x288 with 1 Axes>"
      ]
     },
     "metadata": {
      "needs_background": "light"
     },
     "output_type": "display_data"
    }
   ],
   "source": [
    "sns.countplot(x = 'WorkLifeBalance',data = df)"
   ]
  },
  {
   "cell_type": "code",
   "execution_count": 77,
   "metadata": {},
   "outputs": [
    {
     "data": {
      "text/plain": [
       "<matplotlib.axes._subplots.AxesSubplot at 0x29e7a867bc8>"
      ]
     },
     "execution_count": 77,
     "metadata": {},
     "output_type": "execute_result"
    },
    {
     "data": {
      "image/png": "[encoded data removed]",
      "text/plain": [
       "<Figure size 432x288 with 1 Axes>"
      ]
     },
     "metadata": {
      "needs_background": "light"
     },
     "output_type": "display_data"
    }
   ],
   "source": [
    "sns.distplot(df['YearsAtCompany'],kde = False)"
   ]
  },
  {
   "cell_type": "code",
   "execution_count": 78,
   "metadata": {},
   "outputs": [],
   "source": [
    "df['YearsAtCompany'] = pd.qcut(df['YearsAtCompany'],q = 4,labels = labels)"
   ]
  },
  {
   "cell_type": "code",
   "execution_count": 79,
   "metadata": {},
   "outputs": [
    {
     "data": {
      "text/html": [
       "<div>\n",
       "<style scoped>\n",
       "    .dataframe tbody tr th:only-of-type {\n",
       "        vertical-align: middle;\n",
       "    }\n",
       "\n",
       "    .dataframe tbody tr th {\n",
       "        vertical-align: top;\n",
       "    }\n",
       "\n",
       "    .dataframe thead th {\n",
       "        text-align: right;\n",
       "    }\n",
       "</style>\n",
       "<table border=\"1\" class=\"dataframe\">\n",
       "  <thead>\n",
       "    <tr style=\"text-align: right;\">\n",
       "      <th></th>\n",
       "      <th>Age</th>\n",
       "      <th>Attrition</th>\n",
       "      <th>BusinessTravel</th>\n",
       "      <th>DailyRate</th>\n",
       "      <th>Department</th>\n",
       "      <th>DistanceFromHome</th>\n",
       "      <th>Education</th>\n",
       "      <th>EducationField</th>\n",
       "      <th>EnvironmentSatisfaction</th>\n",
       "      <th>Gender</th>\n",
       "      <th>...</th>\n",
       "      <th>PerformanceRating</th>\n",
       "      <th>RelationshipSatisfaction</th>\n",
       "      <th>StockOptionLevel</th>\n",
       "      <th>TotalWorkingYears</th>\n",
       "      <th>TrainingTimesLastYear</th>\n",
       "      <th>WorkLifeBalance</th>\n",
       "      <th>YearsAtCompany</th>\n",
       "      <th>YearsInCurrentRole</th>\n",
       "      <th>YearsSinceLastPromotion</th>\n",
       "      <th>YearsWithCurrManager</th>\n",
       "    </tr>\n",
       "  </thead>\n",
       "  <tbody>\n",
       "    <tr>\n",
       "      <td>0</td>\n",
       "      <td>Young Adult</td>\n",
       "      <td>No</td>\n",
       "      <td>Travel_Rarely</td>\n",
       "      <td>1358</td>\n",
       "      <td>Sales</td>\n",
       "      <td>Very High</td>\n",
       "      <td>1</td>\n",
       "      <td>Life Sciences</td>\n",
       "      <td>4</td>\n",
       "      <td>Male</td>\n",
       "      <td>...</td>\n",
       "      <td>3.0</td>\n",
       "      <td>3.0</td>\n",
       "      <td>2</td>\n",
       "      <td>Low</td>\n",
       "      <td>2</td>\n",
       "      <td>2</td>\n",
       "      <td>Low</td>\n",
       "      <td>1</td>\n",
       "      <td>2.0</td>\n",
       "      <td>2</td>\n",
       "    </tr>\n",
       "    <tr>\n",
       "      <td>1</td>\n",
       "      <td>Elderly</td>\n",
       "      <td>No</td>\n",
       "      <td>Travel_Rarely</td>\n",
       "      <td>1325</td>\n",
       "      <td>Research &amp; Development</td>\n",
       "      <td>High</td>\n",
       "      <td>4</td>\n",
       "      <td>Life Sciences</td>\n",
       "      <td>4</td>\n",
       "      <td>Female</td>\n",
       "      <td>...</td>\n",
       "      <td>4.0</td>\n",
       "      <td>2.0</td>\n",
       "      <td>1</td>\n",
       "      <td>Intermediate</td>\n",
       "      <td>3</td>\n",
       "      <td>3</td>\n",
       "      <td>Intermediate</td>\n",
       "      <td>2</td>\n",
       "      <td>1.0</td>\n",
       "      <td>4</td>\n",
       "    </tr>\n",
       "    <tr>\n",
       "      <td>2</td>\n",
       "      <td>Middle Aged</td>\n",
       "      <td>No</td>\n",
       "      <td>Travel_Rarely</td>\n",
       "      <td>462</td>\n",
       "      <td>Sales</td>\n",
       "      <td>High</td>\n",
       "      <td>2</td>\n",
       "      <td>Medical</td>\n",
       "      <td>3</td>\n",
       "      <td>Female</td>\n",
       "      <td>...</td>\n",
       "      <td>3.0</td>\n",
       "      <td>1.0</td>\n",
       "      <td>0</td>\n",
       "      <td>Intermediate</td>\n",
       "      <td>6</td>\n",
       "      <td>3</td>\n",
       "      <td>Intermediate</td>\n",
       "      <td>4</td>\n",
       "      <td>0.0</td>\n",
       "      <td>3</td>\n",
       "    </tr>\n",
       "    <tr>\n",
       "      <td>3</td>\n",
       "      <td>Elderly</td>\n",
       "      <td>No</td>\n",
       "      <td>Non-Travel</td>\n",
       "      <td>177</td>\n",
       "      <td>Research &amp; Development</td>\n",
       "      <td>High</td>\n",
       "      <td>1</td>\n",
       "      <td>Medical</td>\n",
       "      <td>4</td>\n",
       "      <td>Male</td>\n",
       "      <td>...</td>\n",
       "      <td>3.0</td>\n",
       "      <td>4.0</td>\n",
       "      <td>1</td>\n",
       "      <td>Very High</td>\n",
       "      <td>3</td>\n",
       "      <td>3</td>\n",
       "      <td>Very High</td>\n",
       "      <td>9</td>\n",
       "      <td>15.0</td>\n",
       "      <td>0</td>\n",
       "    </tr>\n",
       "    <tr>\n",
       "      <td>4</td>\n",
       "      <td>Young Adult</td>\n",
       "      <td>No</td>\n",
       "      <td>Travel_Rarely</td>\n",
       "      <td>1029</td>\n",
       "      <td>Research &amp; Development</td>\n",
       "      <td>Very High</td>\n",
       "      <td>3</td>\n",
       "      <td>Life Sciences</td>\n",
       "      <td>4</td>\n",
       "      <td>Female</td>\n",
       "      <td>...</td>\n",
       "      <td>3.0</td>\n",
       "      <td>4.0</td>\n",
       "      <td>0</td>\n",
       "      <td>High</td>\n",
       "      <td>3</td>\n",
       "      <td>1</td>\n",
       "      <td>Very High</td>\n",
       "      <td>8</td>\n",
       "      <td>3.0</td>\n",
       "      <td>3</td>\n",
       "    </tr>\n",
       "  </tbody>\n",
       "</table>\n",
       "<p>5 rows × 31 columns</p>\n",
       "</div>"
      ],
      "text/plain": [
       "           Age Attrition BusinessTravel  DailyRate              Department  \\\n",
       "0  Young Adult        No  Travel_Rarely       1358                   Sales   \n",
       "1      Elderly        No  Travel_Rarely       1325  Research & Development   \n",
       "2  Middle Aged        No  Travel_Rarely        462                   Sales   \n",
       "3      Elderly        No     Non-Travel        177  Research & Development   \n",
       "4  Young Adult        No  Travel_Rarely       1029  Research & Development   \n",
       "\n",
       "  DistanceFromHome  Education EducationField  EnvironmentSatisfaction  Gender  \\\n",
       "0        Very High          1  Life Sciences                        4    Male   \n",
       "1             High          4  Life Sciences                        4  Female   \n",
       "2             High          2        Medical                        3  Female   \n",
       "3             High          1        Medical                        4    Male   \n",
       "4        Very High          3  Life Sciences                        4  Female   \n",
       "\n",
       "   ... PerformanceRating  RelationshipSatisfaction  StockOptionLevel  \\\n",
       "0  ...               3.0                       3.0                 2   \n",
       "1  ...               4.0                       2.0                 1   \n",
       "2  ...               3.0                       1.0                 0   \n",
       "3  ...               3.0                       4.0                 1   \n",
       "4  ...               3.0                       4.0                 0   \n",
       "\n",
       "  TotalWorkingYears  TrainingTimesLastYear WorkLifeBalance YearsAtCompany  \\\n",
       "0               Low                      2               2            Low   \n",
       "1      Intermediate                      3               3   Intermediate   \n",
       "2      Intermediate                      6               3   Intermediate   \n",
       "3         Very High                      3               3      Very High   \n",
       "4              High                      3               1      Very High   \n",
       "\n",
       "  YearsInCurrentRole  YearsSinceLastPromotion YearsWithCurrManager  \n",
       "0                  1                      2.0                    2  \n",
       "1                  2                      1.0                    4  \n",
       "2                  4                      0.0                    3  \n",
       "3                  9                     15.0                    0  \n",
       "4                  8                      3.0                    3  \n",
       "\n",
       "[5 rows x 31 columns]"
      ]
     },
     "execution_count": 79,
     "metadata": {},
     "output_type": "execute_result"
    }
   ],
   "source": [
    "df.head()"
   ]
  },
  {
   "cell_type": "code",
   "execution_count": 80,
   "metadata": {},
   "outputs": [
    {
     "data": {
      "text/plain": [
       "<matplotlib.axes._subplots.AxesSubplot at 0x29e7a950b88>"
      ]
     },
     "execution_count": 80,
     "metadata": {},
     "output_type": "execute_result"
    },
    {
     "data": {
      "image/png": "[encoded data removed]",
      "text/plain": [
       "<Figure size 432x288 with 1 Axes>"
      ]
     },
     "metadata": {
      "needs_background": "light"
     },
     "output_type": "display_data"
    }
   ],
   "source": [
    "sns.countplot(df['YearsInCurrentRole'],data = df)"
   ]
  },
  {
   "cell_type": "code",
   "execution_count": 81,
   "metadata": {},
   "outputs": [
    {
     "data": {
      "text/plain": [
       "<matplotlib.axes._subplots.AxesSubplot at 0x29e78ca7e88>"
      ]
     },
     "execution_count": 81,
     "metadata": {},
     "output_type": "execute_result"
    },
    {
     "data": {
      "image/png": "[encoded data removed]",
      "text/plain": [
       "<Figure size 432x288 with 1 Axes>"
      ]
     },
     "metadata": {
      "needs_background": "light"
     },
     "output_type": "display_data"
    }
   ],
   "source": [
    "sns.countplot(df['YearsWithCurrManager'],data = df)"
   ]
  },
  {
   "cell_type": "code",
   "execution_count": 82,
   "metadata": {},
   "outputs": [
    {
     "data": {
      "text/plain": [
       "2      292\n",
       "0      206\n",
       "7      170\n",
       "3      113\n",
       "4       78\n",
       "8       75\n",
       "1       64\n",
       "9       49\n",
       "5       26\n",
       "10      23\n",
       "6       20\n",
       "11      18\n",
       "12      16\n",
       "13       9\n",
       "17       7\n",
       "15       4\n",
       "14       3\n",
       "16       2\n",
       "219      1\n",
       "Name: YearsWithCurrManager, dtype: int64"
      ]
     },
     "execution_count": 82,
     "metadata": {},
     "output_type": "execute_result"
    }
   ],
   "source": [
    "df['YearsWithCurrManager'].value_counts()"
   ]
  },
  {
   "cell_type": "code",
   "execution_count": 83,
   "metadata": {},
   "outputs": [],
   "source": [
    "df['YearsWithCurrManager'] = pd.qcut(df['YearsWithCurrManager'],q = 4,labels = labels)"
   ]
  },
  {
   "cell_type": "code",
   "execution_count": 90,
   "metadata": {},
   "outputs": [
    {
     "data": {
      "text/plain": [
       "0             Low\n",
       "1            High\n",
       "2    Intermediate\n",
       "3             Low\n",
       "4    Intermediate\n",
       "Name: YearsWithCurrManager, dtype: category\n",
       "Categories (4, object): [Low < Intermediate < High < Very High]"
      ]
     },
     "execution_count": 90,
     "metadata": {},
     "output_type": "execute_result"
    }
   ],
   "source": [
    "df['YearsWithCurrManager'].head()"
   ]
  },
  {
   "cell_type": "markdown",
   "metadata": {},
   "source": [
    "## Preparing the data for the model"
   ]
  },
  {
   "cell_type": "code",
   "execution_count": 97,
   "metadata": {},
   "outputs": [],
   "source": [
    "# convert dataframe to string\n",
    "df = df.astype('str')"
   ]
  },
  {
   "cell_type": "code",
   "execution_count": 98,
   "metadata": {},
   "outputs": [],
   "source": [
    "# Strip whitespaces\n",
    "df[df.columns] = df.apply(lambda x: x.str.strip())"
   ]
  },
  {
   "cell_type": "code",
   "execution_count": 99,
   "metadata": {},
   "outputs": [],
   "source": [
    "#Convert to type object\n",
    "df = df.astype('object')"
   ]
  },
  {
   "cell_type": "code",
   "execution_count": 100,
   "metadata": {},
   "outputs": [],
   "source": [
    "#Create a dataframe consisting of column names\n",
    "df1 = pd.DataFrame({col: str(col)+'=' for col in df}, index=df)"
   ]
  },
  {
   "cell_type": "code",
   "execution_count": 101,
   "metadata": {},
   "outputs": [
    {
     "name": "stderr",
     "output_type": "stream",
     "text": [
      "C:\\Users\\Pranav\\Anaconda3\\lib\\site-packages\\ipykernel_launcher.py:3: FutureWarning: A future version of pandas will perform index alignment when `others` is a Series/Index/DataFrame (or a list-like containing one). To disable alignment (the behavior before v.0.23) and silence this warning, use `.values` on any Series/Index/DataFrame in `others`. To enable alignment and silence this warning, pass `join='left'|'outer'|'inner'|'right'`. The future default will be `join='left'`.\n",
      "  This is separate from the ipykernel package so we can avoid doing imports until\n"
     ]
    }
   ],
   "source": [
    "# Concatenate column names from df1 to the values in df\n",
    "for col in df.columns:\n",
    "    df1[col] = df1[col].str.cat(df[col],sep =\" \")"
   ]
  },
  {
   "cell_type": "code",
   "execution_count": 102,
   "metadata": {},
   "outputs": [
    {
     "data": {
      "text/html": [
       "<div>\n",
       "<style scoped>\n",
       "    .dataframe tbody tr th:only-of-type {\n",
       "        vertical-align: middle;\n",
       "    }\n",
       "\n",
       "    .dataframe tbody tr th {\n",
       "        vertical-align: top;\n",
       "    }\n",
       "\n",
       "    .dataframe thead th {\n",
       "        text-align: right;\n",
       "    }\n",
       "</style>\n",
       "<table border=\"1\" class=\"dataframe\">\n",
       "  <thead>\n",
       "    <tr style=\"text-align: right;\">\n",
       "      <th></th>\n",
       "      <th>Age</th>\n",
       "      <th>Attrition</th>\n",
       "      <th>BusinessTravel</th>\n",
       "      <th>DailyRate</th>\n",
       "      <th>Department</th>\n",
       "      <th>DistanceFromHome</th>\n",
       "      <th>Education</th>\n",
       "      <th>EducationField</th>\n",
       "      <th>EnvironmentSatisfaction</th>\n",
       "      <th>Gender</th>\n",
       "      <th>...</th>\n",
       "      <th>PerformanceRating</th>\n",
       "      <th>RelationshipSatisfaction</th>\n",
       "      <th>StockOptionLevel</th>\n",
       "      <th>TotalWorkingYears</th>\n",
       "      <th>TrainingTimesLastYear</th>\n",
       "      <th>WorkLifeBalance</th>\n",
       "      <th>YearsAtCompany</th>\n",
       "      <th>YearsInCurrentRole</th>\n",
       "      <th>YearsSinceLastPromotion</th>\n",
       "      <th>YearsWithCurrManager</th>\n",
       "    </tr>\n",
       "  </thead>\n",
       "  <tbody>\n",
       "    <tr>\n",
       "      <td>(Young Adult, No, Travel_Rarely, 1358, Sales, Very High, 1, Life Sciences, 4, Male, Very High, 3, 2.0, Sales Executive, 3, Married, High, Low, 8, No, 15.0, 3.0, 3.0, 2, Low, 2, 2, Low, 1, 2.0, Low)</td>\n",
       "      <td>Age= Young Adult</td>\n",
       "      <td>Attrition= No</td>\n",
       "      <td>BusinessTravel= Travel_Rarely</td>\n",
       "      <td>DailyRate= 1358</td>\n",
       "      <td>Department= Sales</td>\n",
       "      <td>DistanceFromHome= Very High</td>\n",
       "      <td>Education= 1</td>\n",
       "      <td>EducationField= Life Sciences</td>\n",
       "      <td>EnvironmentSatisfaction= 4</td>\n",
       "      <td>Gender= Male</td>\n",
       "      <td>...</td>\n",
       "      <td>PerformanceRating= 3.0</td>\n",
       "      <td>RelationshipSatisfaction= 3.0</td>\n",
       "      <td>StockOptionLevel= 2</td>\n",
       "      <td>TotalWorkingYears= Low</td>\n",
       "      <td>TrainingTimesLastYear= 2</td>\n",
       "      <td>WorkLifeBalance= 2</td>\n",
       "      <td>YearsAtCompany= Low</td>\n",
       "      <td>YearsInCurrentRole= 1</td>\n",
       "      <td>YearsSinceLastPromotion= 2.0</td>\n",
       "      <td>YearsWithCurrManager= Low</td>\n",
       "    </tr>\n",
       "    <tr>\n",
       "      <td>(Elderly, No, Travel_Rarely, 1325, Research &amp; Development, High, 4, Life Sciences, 4, Female, High, 3, 2.0, Laboratory Technician, 3, Married, Intermediate, Very High, 8, No, 20.0, 4.0, 2.0, 1, Intermediate, 3, 3, Intermediate, 2, 1.0, High)</td>\n",
       "      <td>Age= Elderly</td>\n",
       "      <td>Attrition= No</td>\n",
       "      <td>BusinessTravel= Travel_Rarely</td>\n",
       "      <td>DailyRate= 1325</td>\n",
       "      <td>Department= Research &amp; Development</td>\n",
       "      <td>DistanceFromHome= High</td>\n",
       "      <td>Education= 4</td>\n",
       "      <td>EducationField= Life Sciences</td>\n",
       "      <td>EnvironmentSatisfaction= 4</td>\n",
       "      <td>Gender= Female</td>\n",
       "      <td>...</td>\n",
       "      <td>PerformanceRating= 4.0</td>\n",
       "      <td>RelationshipSatisfaction= 2.0</td>\n",
       "      <td>StockOptionLevel= 1</td>\n",
       "      <td>TotalWorkingYears= Intermediate</td>\n",
       "      <td>TrainingTimesLastYear= 3</td>\n",
       "      <td>WorkLifeBalance= 3</td>\n",
       "      <td>YearsAtCompany= Intermediate</td>\n",
       "      <td>YearsInCurrentRole= 2</td>\n",
       "      <td>YearsSinceLastPromotion= 1.0</td>\n",
       "      <td>YearsWithCurrManager= High</td>\n",
       "    </tr>\n",
       "    <tr>\n",
       "      <td>(Middle Aged, No, Travel_Rarely, 462, Sales, High, 2, Medical, 3, Female, High, 2, 2.0, Sales Executive, 3, Single, High, Low, 7, No, 17.0, 3.0, 1.0, 0, Intermediate, 6, 3, Intermediate, 4, 0.0, Intermediate)</td>\n",
       "      <td>Age= Middle Aged</td>\n",
       "      <td>Attrition= No</td>\n",
       "      <td>BusinessTravel= Travel_Rarely</td>\n",
       "      <td>DailyRate= 462</td>\n",
       "      <td>Department= Sales</td>\n",
       "      <td>DistanceFromHome= High</td>\n",
       "      <td>Education= 2</td>\n",
       "      <td>EducationField= Medical</td>\n",
       "      <td>EnvironmentSatisfaction= 3</td>\n",
       "      <td>Gender= Female</td>\n",
       "      <td>...</td>\n",
       "      <td>PerformanceRating= 3.0</td>\n",
       "      <td>RelationshipSatisfaction= 1.0</td>\n",
       "      <td>StockOptionLevel= 0</td>\n",
       "      <td>TotalWorkingYears= Intermediate</td>\n",
       "      <td>TrainingTimesLastYear= 6</td>\n",
       "      <td>WorkLifeBalance= 3</td>\n",
       "      <td>YearsAtCompany= Intermediate</td>\n",
       "      <td>YearsInCurrentRole= 4</td>\n",
       "      <td>YearsSinceLastPromotion= 0.0</td>\n",
       "      <td>YearsWithCurrManager= Intermediate</td>\n",
       "    </tr>\n",
       "    <tr>\n",
       "      <td>(Elderly, No, Non-Travel, 177, Research &amp; Development, High, 1, Medical, 4, Male, Low, 2, 4.0, Healthcare Representative, 2, Divorced, Very High, Very High, 1, Yes, 15.0, 3.0, 4.0, 1, Very High, 3, 3, Very High, 9, 15.0, Low)</td>\n",
       "      <td>Age= Elderly</td>\n",
       "      <td>Attrition= No</td>\n",
       "      <td>BusinessTravel= Non-Travel</td>\n",
       "      <td>DailyRate= 177</td>\n",
       "      <td>Department= Research &amp; Development</td>\n",
       "      <td>DistanceFromHome= High</td>\n",
       "      <td>Education= 1</td>\n",
       "      <td>EducationField= Medical</td>\n",
       "      <td>EnvironmentSatisfaction= 4</td>\n",
       "      <td>Gender= Male</td>\n",
       "      <td>...</td>\n",
       "      <td>PerformanceRating= 3.0</td>\n",
       "      <td>RelationshipSatisfaction= 4.0</td>\n",
       "      <td>StockOptionLevel= 1</td>\n",
       "      <td>TotalWorkingYears= Very High</td>\n",
       "      <td>TrainingTimesLastYear= 3</td>\n",
       "      <td>WorkLifeBalance= 3</td>\n",
       "      <td>YearsAtCompany= Very High</td>\n",
       "      <td>YearsInCurrentRole= 9</td>\n",
       "      <td>YearsSinceLastPromotion= 15.0</td>\n",
       "      <td>YearsWithCurrManager= Low</td>\n",
       "    </tr>\n",
       "    <tr>\n",
       "      <td>(Young Adult, No, Travel_Rarely, 1029, Research &amp; Development, Very High, 3, Life Sciences, 4, Female, Very High, 2, 3.0, Healthcare Representative, 2, Single, Very High, Very High, 1, No, 19.0, 3.0, 4.0, 0, High, 3, 1, Very High, 8, 3.0, Intermediate)</td>\n",
       "      <td>Age= Young Adult</td>\n",
       "      <td>Attrition= No</td>\n",
       "      <td>BusinessTravel= Travel_Rarely</td>\n",
       "      <td>DailyRate= 1029</td>\n",
       "      <td>Department= Research &amp; Development</td>\n",
       "      <td>DistanceFromHome= Very High</td>\n",
       "      <td>Education= 3</td>\n",
       "      <td>EducationField= Life Sciences</td>\n",
       "      <td>EnvironmentSatisfaction= 4</td>\n",
       "      <td>Gender= Female</td>\n",
       "      <td>...</td>\n",
       "      <td>PerformanceRating= 3.0</td>\n",
       "      <td>RelationshipSatisfaction= 4.0</td>\n",
       "      <td>StockOptionLevel= 0</td>\n",
       "      <td>TotalWorkingYears= High</td>\n",
       "      <td>TrainingTimesLastYear= 3</td>\n",
       "      <td>WorkLifeBalance= 1</td>\n",
       "      <td>YearsAtCompany= Very High</td>\n",
       "      <td>YearsInCurrentRole= 8</td>\n",
       "      <td>YearsSinceLastPromotion= 3.0</td>\n",
       "      <td>YearsWithCurrManager= Intermediate</td>\n",
       "    </tr>\n",
       "  </tbody>\n",
       "</table>\n",
       "<p>5 rows × 31 columns</p>\n",
       "</div>"
      ],
      "text/plain": [
       "                                                                 Age  \\\n",
       "(Young Adult, No, Travel_Rarely, 1358, Sales, V...  Age= Young Adult   \n",
       "(Elderly, No, Travel_Rarely, 1325, Research & D...      Age= Elderly   \n",
       "(Middle Aged, No, Travel_Rarely, 462, Sales, Hi...  Age= Middle Aged   \n",
       "(Elderly, No, Non-Travel, 177, Research & Devel...      Age= Elderly   \n",
       "(Young Adult, No, Travel_Rarely, 1029, Research...  Age= Young Adult   \n",
       "\n",
       "                                                        Attrition  \\\n",
       "(Young Adult, No, Travel_Rarely, 1358, Sales, V...  Attrition= No   \n",
       "(Elderly, No, Travel_Rarely, 1325, Research & D...  Attrition= No   \n",
       "(Middle Aged, No, Travel_Rarely, 462, Sales, Hi...  Attrition= No   \n",
       "(Elderly, No, Non-Travel, 177, Research & Devel...  Attrition= No   \n",
       "(Young Adult, No, Travel_Rarely, 1029, Research...  Attrition= No   \n",
       "\n",
       "                                                                   BusinessTravel  \\\n",
       "(Young Adult, No, Travel_Rarely, 1358, Sales, V...  BusinessTravel= Travel_Rarely   \n",
       "(Elderly, No, Travel_Rarely, 1325, Research & D...  BusinessTravel= Travel_Rarely   \n",
       "(Middle Aged, No, Travel_Rarely, 462, Sales, Hi...  BusinessTravel= Travel_Rarely   \n",
       "(Elderly, No, Non-Travel, 177, Research & Devel...     BusinessTravel= Non-Travel   \n",
       "(Young Adult, No, Travel_Rarely, 1029, Research...  BusinessTravel= Travel_Rarely   \n",
       "\n",
       "                                                          DailyRate  \\\n",
       "(Young Adult, No, Travel_Rarely, 1358, Sales, V...  DailyRate= 1358   \n",
       "(Elderly, No, Travel_Rarely, 1325, Research & D...  DailyRate= 1325   \n",
       "(Middle Aged, No, Travel_Rarely, 462, Sales, Hi...   DailyRate= 462   \n",
       "(Elderly, No, Non-Travel, 177, Research & Devel...   DailyRate= 177   \n",
       "(Young Adult, No, Travel_Rarely, 1029, Research...  DailyRate= 1029   \n",
       "\n",
       "                                                                            Department  \\\n",
       "(Young Adult, No, Travel_Rarely, 1358, Sales, V...                   Department= Sales   \n",
       "(Elderly, No, Travel_Rarely, 1325, Research & D...  Department= Research & Development   \n",
       "(Middle Aged, No, Travel_Rarely, 462, Sales, Hi...                   Department= Sales   \n",
       "(Elderly, No, Non-Travel, 177, Research & Devel...  Department= Research & Development   \n",
       "(Young Adult, No, Travel_Rarely, 1029, Research...  Department= Research & Development   \n",
       "\n",
       "                                                               DistanceFromHome  \\\n",
       "(Young Adult, No, Travel_Rarely, 1358, Sales, V...  DistanceFromHome= Very High   \n",
       "(Elderly, No, Travel_Rarely, 1325, Research & D...       DistanceFromHome= High   \n",
       "(Middle Aged, No, Travel_Rarely, 462, Sales, Hi...       DistanceFromHome= High   \n",
       "(Elderly, No, Non-Travel, 177, Research & Devel...       DistanceFromHome= High   \n",
       "(Young Adult, No, Travel_Rarely, 1029, Research...  DistanceFromHome= Very High   \n",
       "\n",
       "                                                       Education  \\\n",
       "(Young Adult, No, Travel_Rarely, 1358, Sales, V...  Education= 1   \n",
       "(Elderly, No, Travel_Rarely, 1325, Research & D...  Education= 4   \n",
       "(Middle Aged, No, Travel_Rarely, 462, Sales, Hi...  Education= 2   \n",
       "(Elderly, No, Non-Travel, 177, Research & Devel...  Education= 1   \n",
       "(Young Adult, No, Travel_Rarely, 1029, Research...  Education= 3   \n",
       "\n",
       "                                                                   EducationField  \\\n",
       "(Young Adult, No, Travel_Rarely, 1358, Sales, V...  EducationField= Life Sciences   \n",
       "(Elderly, No, Travel_Rarely, 1325, Research & D...  EducationField= Life Sciences   \n",
       "(Middle Aged, No, Travel_Rarely, 462, Sales, Hi...        EducationField= Medical   \n",
       "(Elderly, No, Non-Travel, 177, Research & Devel...        EducationField= Medical   \n",
       "(Young Adult, No, Travel_Rarely, 1029, Research...  EducationField= Life Sciences   \n",
       "\n",
       "                                                       EnvironmentSatisfaction  \\\n",
       "(Young Adult, No, Travel_Rarely, 1358, Sales, V...  EnvironmentSatisfaction= 4   \n",
       "(Elderly, No, Travel_Rarely, 1325, Research & D...  EnvironmentSatisfaction= 4   \n",
       "(Middle Aged, No, Travel_Rarely, 462, Sales, Hi...  EnvironmentSatisfaction= 3   \n",
       "(Elderly, No, Non-Travel, 177, Research & Devel...  EnvironmentSatisfaction= 4   \n",
       "(Young Adult, No, Travel_Rarely, 1029, Research...  EnvironmentSatisfaction= 4   \n",
       "\n",
       "                                                            Gender  ...  \\\n",
       "(Young Adult, No, Travel_Rarely, 1358, Sales, V...    Gender= Male  ...   \n",
       "(Elderly, No, Travel_Rarely, 1325, Research & D...  Gender= Female  ...   \n",
       "(Middle Aged, No, Travel_Rarely, 462, Sales, Hi...  Gender= Female  ...   \n",
       "(Elderly, No, Non-Travel, 177, Research & Devel...    Gender= Male  ...   \n",
       "(Young Adult, No, Travel_Rarely, 1029, Research...  Gender= Female  ...   \n",
       "\n",
       "                                                         PerformanceRating  \\\n",
       "(Young Adult, No, Travel_Rarely, 1358, Sales, V...  PerformanceRating= 3.0   \n",
       "(Elderly, No, Travel_Rarely, 1325, Research & D...  PerformanceRating= 4.0   \n",
       "(Middle Aged, No, Travel_Rarely, 462, Sales, Hi...  PerformanceRating= 3.0   \n",
       "(Elderly, No, Non-Travel, 177, Research & Devel...  PerformanceRating= 3.0   \n",
       "(Young Adult, No, Travel_Rarely, 1029, Research...  PerformanceRating= 3.0   \n",
       "\n",
       "                                                         RelationshipSatisfaction  \\\n",
       "(Young Adult, No, Travel_Rarely, 1358, Sales, V...  RelationshipSatisfaction= 3.0   \n",
       "(Elderly, No, Travel_Rarely, 1325, Research & D...  RelationshipSatisfaction= 2.0   \n",
       "(Middle Aged, No, Travel_Rarely, 462, Sales, Hi...  RelationshipSatisfaction= 1.0   \n",
       "(Elderly, No, Non-Travel, 177, Research & Devel...  RelationshipSatisfaction= 4.0   \n",
       "(Young Adult, No, Travel_Rarely, 1029, Research...  RelationshipSatisfaction= 4.0   \n",
       "\n",
       "                                                       StockOptionLevel  \\\n",
       "(Young Adult, No, Travel_Rarely, 1358, Sales, V...  StockOptionLevel= 2   \n",
       "(Elderly, No, Travel_Rarely, 1325, Research & D...  StockOptionLevel= 1   \n",
       "(Middle Aged, No, Travel_Rarely, 462, Sales, Hi...  StockOptionLevel= 0   \n",
       "(Elderly, No, Non-Travel, 177, Research & Devel...  StockOptionLevel= 1   \n",
       "(Young Adult, No, Travel_Rarely, 1029, Research...  StockOptionLevel= 0   \n",
       "\n",
       "                                                                  TotalWorkingYears  \\\n",
       "(Young Adult, No, Travel_Rarely, 1358, Sales, V...           TotalWorkingYears= Low   \n",
       "(Elderly, No, Travel_Rarely, 1325, Research & D...  TotalWorkingYears= Intermediate   \n",
       "(Middle Aged, No, Travel_Rarely, 462, Sales, Hi...  TotalWorkingYears= Intermediate   \n",
       "(Elderly, No, Non-Travel, 177, Research & Devel...     TotalWorkingYears= Very High   \n",
       "(Young Adult, No, Travel_Rarely, 1029, Research...          TotalWorkingYears= High   \n",
       "\n",
       "                                                       TrainingTimesLastYear  \\\n",
       "(Young Adult, No, Travel_Rarely, 1358, Sales, V...  TrainingTimesLastYear= 2   \n",
       "(Elderly, No, Travel_Rarely, 1325, Research & D...  TrainingTimesLastYear= 3   \n",
       "(Middle Aged, No, Travel_Rarely, 462, Sales, Hi...  TrainingTimesLastYear= 6   \n",
       "(Elderly, No, Non-Travel, 177, Research & Devel...  TrainingTimesLastYear= 3   \n",
       "(Young Adult, No, Travel_Rarely, 1029, Research...  TrainingTimesLastYear= 3   \n",
       "\n",
       "                                                       WorkLifeBalance  \\\n",
       "(Young Adult, No, Travel_Rarely, 1358, Sales, V...  WorkLifeBalance= 2   \n",
       "(Elderly, No, Travel_Rarely, 1325, Research & D...  WorkLifeBalance= 3   \n",
       "(Middle Aged, No, Travel_Rarely, 462, Sales, Hi...  WorkLifeBalance= 3   \n",
       "(Elderly, No, Non-Travel, 177, Research & Devel...  WorkLifeBalance= 3   \n",
       "(Young Adult, No, Travel_Rarely, 1029, Research...  WorkLifeBalance= 1   \n",
       "\n",
       "                                                                  YearsAtCompany  \\\n",
       "(Young Adult, No, Travel_Rarely, 1358, Sales, V...           YearsAtCompany= Low   \n",
       "(Elderly, No, Travel_Rarely, 1325, Research & D...  YearsAtCompany= Intermediate   \n",
       "(Middle Aged, No, Travel_Rarely, 462, Sales, Hi...  YearsAtCompany= Intermediate   \n",
       "(Elderly, No, Non-Travel, 177, Research & Devel...     YearsAtCompany= Very High   \n",
       "(Young Adult, No, Travel_Rarely, 1029, Research...     YearsAtCompany= Very High   \n",
       "\n",
       "                                                       YearsInCurrentRole  \\\n",
       "(Young Adult, No, Travel_Rarely, 1358, Sales, V...  YearsInCurrentRole= 1   \n",
       "(Elderly, No, Travel_Rarely, 1325, Research & D...  YearsInCurrentRole= 2   \n",
       "(Middle Aged, No, Travel_Rarely, 462, Sales, Hi...  YearsInCurrentRole= 4   \n",
       "(Elderly, No, Non-Travel, 177, Research & Devel...  YearsInCurrentRole= 9   \n",
       "(Young Adult, No, Travel_Rarely, 1029, Research...  YearsInCurrentRole= 8   \n",
       "\n",
       "                                                          YearsSinceLastPromotion  \\\n",
       "(Young Adult, No, Travel_Rarely, 1358, Sales, V...   YearsSinceLastPromotion= 2.0   \n",
       "(Elderly, No, Travel_Rarely, 1325, Research & D...   YearsSinceLastPromotion= 1.0   \n",
       "(Middle Aged, No, Travel_Rarely, 462, Sales, Hi...   YearsSinceLastPromotion= 0.0   \n",
       "(Elderly, No, Non-Travel, 177, Research & Devel...  YearsSinceLastPromotion= 15.0   \n",
       "(Young Adult, No, Travel_Rarely, 1029, Research...   YearsSinceLastPromotion= 3.0   \n",
       "\n",
       "                                                                  YearsWithCurrManager  \n",
       "(Young Adult, No, Travel_Rarely, 1358, Sales, V...           YearsWithCurrManager= Low  \n",
       "(Elderly, No, Travel_Rarely, 1325, Research & D...          YearsWithCurrManager= High  \n",
       "(Middle Aged, No, Travel_Rarely, 462, Sales, Hi...  YearsWithCurrManager= Intermediate  \n",
       "(Elderly, No, Non-Travel, 177, Research & Devel...           YearsWithCurrManager= Low  \n",
       "(Young Adult, No, Travel_Rarely, 1029, Research...  YearsWithCurrManager= Intermediate  \n",
       "\n",
       "[5 rows x 31 columns]"
      ]
     },
     "execution_count": 102,
     "metadata": {},
     "output_type": "execute_result"
    }
   ],
   "source": [
    "df1.head()"
   ]
  },
  {
   "cell_type": "code",
   "execution_count": 103,
   "metadata": {},
   "outputs": [],
   "source": [
    "# Create a list out of the dataframe\n",
    "records = []\n",
    "for i in range(0,len(df1)):\n",
    "    records.append([str(df1.values[i,j]) \n",
    "    for j in range(0, len(df1.columns))])"
   ]
  },
  {
   "cell_type": "code",
   "execution_count": 104,
   "metadata": {},
   "outputs": [],
   "source": [
    "#initialize transaction encoder\n",
    "te = TransactionEncoder()"
   ]
  },
  {
   "cell_type": "code",
   "execution_count": 105,
   "metadata": {},
   "outputs": [],
   "source": [
    "# Transform records\n",
    "te_ary = te.fit(records).transform(records)"
   ]
  },
  {
   "cell_type": "code",
   "execution_count": 106,
   "metadata": {},
   "outputs": [],
   "source": [
    "#convert the transformed records to a dataframe\n",
    "df2 = pd.DataFrame(te_ary, columns=te.columns_)"
   ]
  },
  {
   "cell_type": "code",
   "execution_count": 107,
   "metadata": {},
   "outputs": [
    {
     "data": {
      "text/html": [
       "<div>\n",
       "<style scoped>\n",
       "    .dataframe tbody tr th:only-of-type {\n",
       "        vertical-align: middle;\n",
       "    }\n",
       "\n",
       "    .dataframe tbody tr th {\n",
       "        vertical-align: top;\n",
       "    }\n",
       "\n",
       "    .dataframe thead th {\n",
       "        text-align: right;\n",
       "    }\n",
       "</style>\n",
       "<table border=\"1\" class=\"dataframe\">\n",
       "  <thead>\n",
       "    <tr style=\"text-align: right;\">\n",
       "      <th></th>\n",
       "      <th>Age= Elderly</th>\n",
       "      <th>Age= Middle Aged</th>\n",
       "      <th>Age= Young Adult</th>\n",
       "      <th>Attrition= No</th>\n",
       "      <th>Attrition= Yes</th>\n",
       "      <th>BusinessTravel= Non-Travel</th>\n",
       "      <th>BusinessTravel= Travel_Frequently</th>\n",
       "      <th>BusinessTravel= Travel_Rarely</th>\n",
       "      <th>DailyRate= 1001</th>\n",
       "      <th>DailyRate= 1002</th>\n",
       "      <th>...</th>\n",
       "      <th>YearsSinceLastPromotion= 4.0</th>\n",
       "      <th>YearsSinceLastPromotion= 5.0</th>\n",
       "      <th>YearsSinceLastPromotion= 6.0</th>\n",
       "      <th>YearsSinceLastPromotion= 7.0</th>\n",
       "      <th>YearsSinceLastPromotion= 8.0</th>\n",
       "      <th>YearsSinceLastPromotion= 9.0</th>\n",
       "      <th>YearsWithCurrManager= High</th>\n",
       "      <th>YearsWithCurrManager= Intermediate</th>\n",
       "      <th>YearsWithCurrManager= Low</th>\n",
       "      <th>YearsWithCurrManager= Very High</th>\n",
       "    </tr>\n",
       "  </thead>\n",
       "  <tbody>\n",
       "    <tr>\n",
       "      <td>0</td>\n",
       "      <td>False</td>\n",
       "      <td>False</td>\n",
       "      <td>True</td>\n",
       "      <td>True</td>\n",
       "      <td>False</td>\n",
       "      <td>False</td>\n",
       "      <td>False</td>\n",
       "      <td>True</td>\n",
       "      <td>False</td>\n",
       "      <td>False</td>\n",
       "      <td>...</td>\n",
       "      <td>False</td>\n",
       "      <td>False</td>\n",
       "      <td>False</td>\n",
       "      <td>False</td>\n",
       "      <td>False</td>\n",
       "      <td>False</td>\n",
       "      <td>False</td>\n",
       "      <td>False</td>\n",
       "      <td>True</td>\n",
       "      <td>False</td>\n",
       "    </tr>\n",
       "    <tr>\n",
       "      <td>1</td>\n",
       "      <td>True</td>\n",
       "      <td>False</td>\n",
       "      <td>False</td>\n",
       "      <td>True</td>\n",
       "      <td>False</td>\n",
       "      <td>False</td>\n",
       "      <td>False</td>\n",
       "      <td>True</td>\n",
       "      <td>False</td>\n",
       "      <td>False</td>\n",
       "      <td>...</td>\n",
       "      <td>False</td>\n",
       "      <td>False</td>\n",
       "      <td>False</td>\n",
       "      <td>False</td>\n",
       "      <td>False</td>\n",
       "      <td>False</td>\n",
       "      <td>True</td>\n",
       "      <td>False</td>\n",
       "      <td>False</td>\n",
       "      <td>False</td>\n",
       "    </tr>\n",
       "    <tr>\n",
       "      <td>2</td>\n",
       "      <td>False</td>\n",
       "      <td>True</td>\n",
       "      <td>False</td>\n",
       "      <td>True</td>\n",
       "      <td>False</td>\n",
       "      <td>False</td>\n",
       "      <td>False</td>\n",
       "      <td>True</td>\n",
       "      <td>False</td>\n",
       "      <td>False</td>\n",
       "      <td>...</td>\n",
       "      <td>False</td>\n",
       "      <td>False</td>\n",
       "      <td>False</td>\n",
       "      <td>False</td>\n",
       "      <td>False</td>\n",
       "      <td>False</td>\n",
       "      <td>False</td>\n",
       "      <td>True</td>\n",
       "      <td>False</td>\n",
       "      <td>False</td>\n",
       "    </tr>\n",
       "    <tr>\n",
       "      <td>3</td>\n",
       "      <td>True</td>\n",
       "      <td>False</td>\n",
       "      <td>False</td>\n",
       "      <td>True</td>\n",
       "      <td>False</td>\n",
       "      <td>True</td>\n",
       "      <td>False</td>\n",
       "      <td>False</td>\n",
       "      <td>False</td>\n",
       "      <td>False</td>\n",
       "      <td>...</td>\n",
       "      <td>False</td>\n",
       "      <td>False</td>\n",
       "      <td>False</td>\n",
       "      <td>False</td>\n",
       "      <td>False</td>\n",
       "      <td>False</td>\n",
       "      <td>False</td>\n",
       "      <td>False</td>\n",
       "      <td>True</td>\n",
       "      <td>False</td>\n",
       "    </tr>\n",
       "    <tr>\n",
       "      <td>4</td>\n",
       "      <td>False</td>\n",
       "      <td>False</td>\n",
       "      <td>True</td>\n",
       "      <td>True</td>\n",
       "      <td>False</td>\n",
       "      <td>False</td>\n",
       "      <td>False</td>\n",
       "      <td>True</td>\n",
       "      <td>False</td>\n",
       "      <td>False</td>\n",
       "      <td>...</td>\n",
       "      <td>False</td>\n",
       "      <td>False</td>\n",
       "      <td>False</td>\n",
       "      <td>False</td>\n",
       "      <td>False</td>\n",
       "      <td>False</td>\n",
       "      <td>False</td>\n",
       "      <td>True</td>\n",
       "      <td>False</td>\n",
       "      <td>False</td>\n",
       "    </tr>\n",
       "  </tbody>\n",
       "</table>\n",
       "<p>5 rows × 935 columns</p>\n",
       "</div>"
      ],
      "text/plain": [
       "   Age= Elderly  Age= Middle Aged  Age= Young Adult  Attrition= No  \\\n",
       "0         False             False              True           True   \n",
       "1          True             False             False           True   \n",
       "2         False              True             False           True   \n",
       "3          True             False             False           True   \n",
       "4         False             False              True           True   \n",
       "\n",
       "   Attrition= Yes  BusinessTravel= Non-Travel  \\\n",
       "0           False                       False   \n",
       "1           False                       False   \n",
       "2           False                       False   \n",
       "3           False                        True   \n",
       "4           False                       False   \n",
       "\n",
       "   BusinessTravel= Travel_Frequently  BusinessTravel= Travel_Rarely  \\\n",
       "0                              False                           True   \n",
       "1                              False                           True   \n",
       "2                              False                           True   \n",
       "3                              False                          False   \n",
       "4                              False                           True   \n",
       "\n",
       "   DailyRate= 1001  DailyRate= 1002  ...  YearsSinceLastPromotion= 4.0  \\\n",
       "0            False            False  ...                         False   \n",
       "1            False            False  ...                         False   \n",
       "2            False            False  ...                         False   \n",
       "3            False            False  ...                         False   \n",
       "4            False            False  ...                         False   \n",
       "\n",
       "   YearsSinceLastPromotion= 5.0  YearsSinceLastPromotion= 6.0  \\\n",
       "0                         False                         False   \n",
       "1                         False                         False   \n",
       "2                         False                         False   \n",
       "3                         False                         False   \n",
       "4                         False                         False   \n",
       "\n",
       "   YearsSinceLastPromotion= 7.0  YearsSinceLastPromotion= 8.0  \\\n",
       "0                         False                         False   \n",
       "1                         False                         False   \n",
       "2                         False                         False   \n",
       "3                         False                         False   \n",
       "4                         False                         False   \n",
       "\n",
       "   YearsSinceLastPromotion= 9.0  YearsWithCurrManager= High  \\\n",
       "0                         False                       False   \n",
       "1                         False                        True   \n",
       "2                         False                       False   \n",
       "3                         False                       False   \n",
       "4                         False                       False   \n",
       "\n",
       "   YearsWithCurrManager= Intermediate  YearsWithCurrManager= Low  \\\n",
       "0                               False                       True   \n",
       "1                               False                      False   \n",
       "2                                True                      False   \n",
       "3                               False                       True   \n",
       "4                                True                      False   \n",
       "\n",
       "   YearsWithCurrManager= Very High  \n",
       "0                            False  \n",
       "1                            False  \n",
       "2                            False  \n",
       "3                            False  \n",
       "4                            False  \n",
       "\n",
       "[5 rows x 935 columns]"
      ]
     },
     "execution_count": 107,
     "metadata": {},
     "output_type": "execute_result"
    }
   ],
   "source": [
    "df2.head()"
   ]
  },
  {
   "cell_type": "markdown",
   "metadata": {},
   "source": [
    "## Run Association Rules With Default Hyperparameters"
   ]
  },
  {
   "cell_type": "code",
   "execution_count": 109,
   "metadata": {},
   "outputs": [],
   "source": [
    "# Create frequent itemsets using apriori\n",
    "frequent_itemsets = apriori(df2,use_colnames=True)"
   ]
  },
  {
   "cell_type": "code",
   "execution_count": 110,
   "metadata": {},
   "outputs": [
    {
     "data": {
      "text/html": [
       "<div>\n",
       "<style scoped>\n",
       "    .dataframe tbody tr th:only-of-type {\n",
       "        vertical-align: middle;\n",
       "    }\n",
       "\n",
       "    .dataframe tbody tr th {\n",
       "        vertical-align: top;\n",
       "    }\n",
       "\n",
       "    .dataframe thead th {\n",
       "        text-align: right;\n",
       "    }\n",
       "</style>\n",
       "<table border=\"1\" class=\"dataframe\">\n",
       "  <thead>\n",
       "    <tr style=\"text-align: right;\">\n",
       "      <th></th>\n",
       "      <th>support</th>\n",
       "      <th>itemsets</th>\n",
       "    </tr>\n",
       "  </thead>\n",
       "  <tbody>\n",
       "    <tr>\n",
       "      <td>0</td>\n",
       "      <td>0.842687</td>\n",
       "      <td>(Attrition= No)</td>\n",
       "    </tr>\n",
       "    <tr>\n",
       "      <td>6</td>\n",
       "      <td>0.837585</td>\n",
       "      <td>(PerformanceRating= 3.0)</td>\n",
       "    </tr>\n",
       "    <tr>\n",
       "      <td>1</td>\n",
       "      <td>0.713435</td>\n",
       "      <td>(BusinessTravel= Travel_Rarely)</td>\n",
       "    </tr>\n",
       "    <tr>\n",
       "      <td>5</td>\n",
       "      <td>0.712585</td>\n",
       "      <td>(OverTime= No)</td>\n",
       "    </tr>\n",
       "    <tr>\n",
       "      <td>12</td>\n",
       "      <td>0.709184</td>\n",
       "      <td>(PerformanceRating= 3.0, Attrition= No)</td>\n",
       "    </tr>\n",
       "    <tr>\n",
       "      <td>2</td>\n",
       "      <td>0.649660</td>\n",
       "      <td>(Department= Research &amp; Development)</td>\n",
       "    </tr>\n",
       "    <tr>\n",
       "      <td>11</td>\n",
       "      <td>0.635204</td>\n",
       "      <td>(OverTime= No, Attrition= No)</td>\n",
       "    </tr>\n",
       "    <tr>\n",
       "      <td>7</td>\n",
       "      <td>0.624150</td>\n",
       "      <td>(WorkLifeBalance= 3)</td>\n",
       "    </tr>\n",
       "    <tr>\n",
       "      <td>8</td>\n",
       "      <td>0.612245</td>\n",
       "      <td>(BusinessTravel= Travel_Rarely, Attrition= No)</td>\n",
       "    </tr>\n",
       "    <tr>\n",
       "      <td>15</td>\n",
       "      <td>0.602891</td>\n",
       "      <td>(BusinessTravel= Travel_Rarely, PerformanceRat...</td>\n",
       "    </tr>\n",
       "  </tbody>\n",
       "</table>\n",
       "</div>"
      ],
      "text/plain": [
       "     support                                           itemsets\n",
       "0   0.842687                                    (Attrition= No)\n",
       "6   0.837585                           (PerformanceRating= 3.0)\n",
       "1   0.713435                    (BusinessTravel= Travel_Rarely)\n",
       "5   0.712585                                     (OverTime= No)\n",
       "12  0.709184            (PerformanceRating= 3.0, Attrition= No)\n",
       "2   0.649660               (Department= Research & Development)\n",
       "11  0.635204                      (OverTime= No, Attrition= No)\n",
       "7   0.624150                               (WorkLifeBalance= 3)\n",
       "8   0.612245     (BusinessTravel= Travel_Rarely, Attrition= No)\n",
       "15  0.602891  (BusinessTravel= Travel_Rarely, PerformanceRat..."
      ]
     },
     "execution_count": 110,
     "metadata": {},
     "output_type": "execute_result"
    }
   ],
   "source": [
    "frequent_itemsets.sort_values(by='support',ascending=False).head(10)"
   ]
  },
  {
   "cell_type": "code",
   "execution_count": 113,
   "metadata": {},
   "outputs": [],
   "source": [
    "#Create Association Rules\n",
    "rules = association_rules(frequent_itemsets)"
   ]
  },
  {
   "cell_type": "markdown",
   "metadata": {},
   "source": [
    "**The top values of the basic model can be seen below**"
   ]
  },
  {
   "cell_type": "code",
   "execution_count": 114,
   "metadata": {},
   "outputs": [
    {
     "data": {
      "text/html": [
       "<div>\n",
       "<style scoped>\n",
       "    .dataframe tbody tr th:only-of-type {\n",
       "        vertical-align: middle;\n",
       "    }\n",
       "\n",
       "    .dataframe tbody tr th {\n",
       "        vertical-align: top;\n",
       "    }\n",
       "\n",
       "    .dataframe thead th {\n",
       "        text-align: right;\n",
       "    }\n",
       "</style>\n",
       "<table border=\"1\" class=\"dataframe\">\n",
       "  <thead>\n",
       "    <tr style=\"text-align: right;\">\n",
       "      <th></th>\n",
       "      <th>antecedents</th>\n",
       "      <th>consequents</th>\n",
       "      <th>antecedent support</th>\n",
       "      <th>consequent support</th>\n",
       "      <th>support</th>\n",
       "      <th>confidence</th>\n",
       "      <th>lift</th>\n",
       "      <th>leverage</th>\n",
       "      <th>conviction</th>\n",
       "    </tr>\n",
       "  </thead>\n",
       "  <tbody>\n",
       "    <tr>\n",
       "      <td>3</td>\n",
       "      <td>(OverTime= No)</td>\n",
       "      <td>(Attrition= No)</td>\n",
       "      <td>0.712585</td>\n",
       "      <td>0.842687</td>\n",
       "      <td>0.635204</td>\n",
       "      <td>0.891408</td>\n",
       "      <td>1.057816</td>\n",
       "      <td>0.034718</td>\n",
       "      <td>1.448662</td>\n",
       "    </tr>\n",
       "    <tr>\n",
       "      <td>13</td>\n",
       "      <td>(OverTime= No, PerformanceRating= 3.0)</td>\n",
       "      <td>(Attrition= No)</td>\n",
       "      <td>0.596088</td>\n",
       "      <td>0.842687</td>\n",
       "      <td>0.530612</td>\n",
       "      <td>0.890157</td>\n",
       "      <td>1.056332</td>\n",
       "      <td>0.028296</td>\n",
       "      <td>1.432161</td>\n",
       "    </tr>\n",
       "    <tr>\n",
       "      <td>1</td>\n",
       "      <td>(Department= Research &amp; Development)</td>\n",
       "      <td>(Attrition= No)</td>\n",
       "      <td>0.649660</td>\n",
       "      <td>0.842687</td>\n",
       "      <td>0.567177</td>\n",
       "      <td>0.873037</td>\n",
       "      <td>1.036015</td>\n",
       "      <td>0.019717</td>\n",
       "      <td>1.239042</td>\n",
       "    </tr>\n",
       "    <tr>\n",
       "      <td>6</td>\n",
       "      <td>(WorkLifeBalance= 3)</td>\n",
       "      <td>(Attrition= No)</td>\n",
       "      <td>0.624150</td>\n",
       "      <td>0.842687</td>\n",
       "      <td>0.537415</td>\n",
       "      <td>0.861035</td>\n",
       "      <td>1.021774</td>\n",
       "      <td>0.011452</td>\n",
       "      <td>1.132036</td>\n",
       "    </tr>\n",
       "    <tr>\n",
       "      <td>11</td>\n",
       "      <td>(BusinessTravel= Travel_Rarely, PerformanceRat...</td>\n",
       "      <td>(Attrition= No)</td>\n",
       "      <td>0.602891</td>\n",
       "      <td>0.842687</td>\n",
       "      <td>0.518707</td>\n",
       "      <td>0.860367</td>\n",
       "      <td>1.020980</td>\n",
       "      <td>0.010659</td>\n",
       "      <td>1.126615</td>\n",
       "    </tr>\n",
       "    <tr>\n",
       "      <td>0</td>\n",
       "      <td>(BusinessTravel= Travel_Rarely)</td>\n",
       "      <td>(Attrition= No)</td>\n",
       "      <td>0.713435</td>\n",
       "      <td>0.842687</td>\n",
       "      <td>0.612245</td>\n",
       "      <td>0.858164</td>\n",
       "      <td>1.018367</td>\n",
       "      <td>0.011042</td>\n",
       "      <td>1.109122</td>\n",
       "    </tr>\n",
       "    <tr>\n",
       "      <td>2</td>\n",
       "      <td>(JobInvolvement= 3)</td>\n",
       "      <td>(Attrition= No)</td>\n",
       "      <td>0.586735</td>\n",
       "      <td>0.842687</td>\n",
       "      <td>0.503401</td>\n",
       "      <td>0.857971</td>\n",
       "      <td>1.018137</td>\n",
       "      <td>0.008968</td>\n",
       "      <td>1.107611</td>\n",
       "    </tr>\n",
       "    <tr>\n",
       "      <td>12</td>\n",
       "      <td>(BusinessTravel= Travel_Rarely, Attrition= No)</td>\n",
       "      <td>(PerformanceRating= 3.0)</td>\n",
       "      <td>0.612245</td>\n",
       "      <td>0.837585</td>\n",
       "      <td>0.518707</td>\n",
       "      <td>0.847222</td>\n",
       "      <td>1.011506</td>\n",
       "      <td>0.005900</td>\n",
       "      <td>1.063080</td>\n",
       "    </tr>\n",
       "    <tr>\n",
       "      <td>7</td>\n",
       "      <td>(BusinessTravel= Travel_Rarely)</td>\n",
       "      <td>(PerformanceRating= 3.0)</td>\n",
       "      <td>0.713435</td>\n",
       "      <td>0.837585</td>\n",
       "      <td>0.602891</td>\n",
       "      <td>0.845054</td>\n",
       "      <td>1.008917</td>\n",
       "      <td>0.005328</td>\n",
       "      <td>1.048201</td>\n",
       "    </tr>\n",
       "    <tr>\n",
       "      <td>4</td>\n",
       "      <td>(PerformanceRating= 3.0)</td>\n",
       "      <td>(Attrition= No)</td>\n",
       "      <td>0.837585</td>\n",
       "      <td>0.842687</td>\n",
       "      <td>0.709184</td>\n",
       "      <td>0.846701</td>\n",
       "      <td>1.004763</td>\n",
       "      <td>0.003362</td>\n",
       "      <td>1.026180</td>\n",
       "    </tr>\n",
       "  </tbody>\n",
       "</table>\n",
       "</div>"
      ],
      "text/plain": [
       "                                          antecedents  \\\n",
       "3                                      (OverTime= No)   \n",
       "13             (OverTime= No, PerformanceRating= 3.0)   \n",
       "1                (Department= Research & Development)   \n",
       "6                                (WorkLifeBalance= 3)   \n",
       "11  (BusinessTravel= Travel_Rarely, PerformanceRat...   \n",
       "0                     (BusinessTravel= Travel_Rarely)   \n",
       "2                                 (JobInvolvement= 3)   \n",
       "12     (BusinessTravel= Travel_Rarely, Attrition= No)   \n",
       "7                     (BusinessTravel= Travel_Rarely)   \n",
       "4                            (PerformanceRating= 3.0)   \n",
       "\n",
       "                 consequents  antecedent support  consequent support  \\\n",
       "3            (Attrition= No)            0.712585            0.842687   \n",
       "13           (Attrition= No)            0.596088            0.842687   \n",
       "1            (Attrition= No)            0.649660            0.842687   \n",
       "6            (Attrition= No)            0.624150            0.842687   \n",
       "11           (Attrition= No)            0.602891            0.842687   \n",
       "0            (Attrition= No)            0.713435            0.842687   \n",
       "2            (Attrition= No)            0.586735            0.842687   \n",
       "12  (PerformanceRating= 3.0)            0.612245            0.837585   \n",
       "7   (PerformanceRating= 3.0)            0.713435            0.837585   \n",
       "4            (Attrition= No)            0.837585            0.842687   \n",
       "\n",
       "     support  confidence      lift  leverage  conviction  \n",
       "3   0.635204    0.891408  1.057816  0.034718    1.448662  \n",
       "13  0.530612    0.890157  1.056332  0.028296    1.432161  \n",
       "1   0.567177    0.873037  1.036015  0.019717    1.239042  \n",
       "6   0.537415    0.861035  1.021774  0.011452    1.132036  \n",
       "11  0.518707    0.860367  1.020980  0.010659    1.126615  \n",
       "0   0.612245    0.858164  1.018367  0.011042    1.109122  \n",
       "2   0.503401    0.857971  1.018137  0.008968    1.107611  \n",
       "12  0.518707    0.847222  1.011506  0.005900    1.063080  \n",
       "7   0.602891    0.845054  1.008917  0.005328    1.048201  \n",
       "4   0.709184    0.846701  1.004763  0.003362    1.026180  "
      ]
     },
     "execution_count": 114,
     "metadata": {},
     "output_type": "execute_result"
    }
   ],
   "source": [
    "rules.sort_values(by = 'lift',ascending=False).head(10)"
   ]
  },
  {
   "cell_type": "code",
   "execution_count": 115,
   "metadata": {},
   "outputs": [
    {
     "data": {
      "text/plain": [
       "(15, 9)"
      ]
     },
     "execution_count": 115,
     "metadata": {},
     "output_type": "execute_result"
    }
   ],
   "source": [
    "rules.shape"
   ]
  },
  {
   "cell_type": "code",
   "execution_count": 116,
   "metadata": {},
   "outputs": [],
   "source": [
    "# Function to set consequents and run association rules\n",
    "def SupervisedApriori(data,consequent,min_supp,min_conf,min_lift):\n",
    "    frequent_itemsets = apriori(data, min_supp, use_colnames=True)\n",
    "    rules = association_rules(frequent_itemsets, metric=\"confidence\", min_threshold=min_conf)\n",
    "    #filter according to lift\n",
    "    rules = rules[rules['lift'] > min_lift]\n",
    "    sup_rules = pd.DataFrame()\n",
    "    for i in consequent:\n",
    "        df = rules[rules['consequents'] == {i}]\n",
    "        sup_rules = sup_rules.append(df,ignore_index = True)\n",
    "    return(sup_rules)"
   ]
  },
  {
   "cell_type": "code",
   "execution_count": 117,
   "metadata": {},
   "outputs": [
    {
     "data": {
      "text/html": [
       "<div>\n",
       "<style scoped>\n",
       "    .dataframe tbody tr th:only-of-type {\n",
       "        vertical-align: middle;\n",
       "    }\n",
       "\n",
       "    .dataframe tbody tr th {\n",
       "        vertical-align: top;\n",
       "    }\n",
       "\n",
       "    .dataframe thead th {\n",
       "        text-align: right;\n",
       "    }\n",
       "</style>\n",
       "<table border=\"1\" class=\"dataframe\">\n",
       "  <thead>\n",
       "    <tr style=\"text-align: right;\">\n",
       "      <th></th>\n",
       "      <th>antecedents</th>\n",
       "      <th>consequents</th>\n",
       "      <th>antecedent support</th>\n",
       "      <th>consequent support</th>\n",
       "      <th>support</th>\n",
       "      <th>confidence</th>\n",
       "      <th>lift</th>\n",
       "      <th>leverage</th>\n",
       "      <th>conviction</th>\n",
       "    </tr>\n",
       "  </thead>\n",
       "  <tbody>\n",
       "    <tr>\n",
       "      <td>5</td>\n",
       "      <td>(PerformanceRating= 3.0)</td>\n",
       "      <td>(Attrition= No)</td>\n",
       "      <td>0.837585</td>\n",
       "      <td>0.842687</td>\n",
       "      <td>0.709184</td>\n",
       "      <td>0.846701</td>\n",
       "      <td>1.004763</td>\n",
       "      <td>0.003362</td>\n",
       "      <td>1.026180</td>\n",
       "    </tr>\n",
       "    <tr>\n",
       "      <td>4</td>\n",
       "      <td>(OverTime= No)</td>\n",
       "      <td>(Attrition= No)</td>\n",
       "      <td>0.712585</td>\n",
       "      <td>0.842687</td>\n",
       "      <td>0.635204</td>\n",
       "      <td>0.891408</td>\n",
       "      <td>1.057816</td>\n",
       "      <td>0.034718</td>\n",
       "      <td>1.448662</td>\n",
       "    </tr>\n",
       "    <tr>\n",
       "      <td>0</td>\n",
       "      <td>(BusinessTravel= Travel_Rarely)</td>\n",
       "      <td>(Attrition= No)</td>\n",
       "      <td>0.713435</td>\n",
       "      <td>0.842687</td>\n",
       "      <td>0.612245</td>\n",
       "      <td>0.858164</td>\n",
       "      <td>1.018367</td>\n",
       "      <td>0.011042</td>\n",
       "      <td>1.109122</td>\n",
       "    </tr>\n",
       "    <tr>\n",
       "      <td>1</td>\n",
       "      <td>(Department= Research &amp; Development)</td>\n",
       "      <td>(Attrition= No)</td>\n",
       "      <td>0.649660</td>\n",
       "      <td>0.842687</td>\n",
       "      <td>0.567177</td>\n",
       "      <td>0.873037</td>\n",
       "      <td>1.036015</td>\n",
       "      <td>0.019717</td>\n",
       "      <td>1.239042</td>\n",
       "    </tr>\n",
       "    <tr>\n",
       "      <td>6</td>\n",
       "      <td>(WorkLifeBalance= 3)</td>\n",
       "      <td>(Attrition= No)</td>\n",
       "      <td>0.624150</td>\n",
       "      <td>0.842687</td>\n",
       "      <td>0.537415</td>\n",
       "      <td>0.861035</td>\n",
       "      <td>1.021774</td>\n",
       "      <td>0.011452</td>\n",
       "      <td>1.132036</td>\n",
       "    </tr>\n",
       "  </tbody>\n",
       "</table>\n",
       "</div>"
      ],
      "text/plain": [
       "                            antecedents      consequents  antecedent support  \\\n",
       "5              (PerformanceRating= 3.0)  (Attrition= No)            0.837585   \n",
       "4                        (OverTime= No)  (Attrition= No)            0.712585   \n",
       "0       (BusinessTravel= Travel_Rarely)  (Attrition= No)            0.713435   \n",
       "1  (Department= Research & Development)  (Attrition= No)            0.649660   \n",
       "6                  (WorkLifeBalance= 3)  (Attrition= No)            0.624150   \n",
       "\n",
       "   consequent support   support  confidence      lift  leverage  conviction  \n",
       "5            0.842687  0.709184    0.846701  1.004763  0.003362    1.026180  \n",
       "4            0.842687  0.635204    0.891408  1.057816  0.034718    1.448662  \n",
       "0            0.842687  0.612245    0.858164  1.018367  0.011042    1.109122  \n",
       "1            0.842687  0.567177    0.873037  1.036015  0.019717    1.239042  \n",
       "6            0.842687  0.537415    0.861035  1.021774  0.011452    1.132036  "
      ]
     },
     "execution_count": 117,
     "metadata": {},
     "output_type": "execute_result"
    }
   ],
   "source": [
    "SupervisedApriori(df2,consequent = ['Attrition= No','Attrition= Yes'],\n",
    "min_supp=0.4, min_conf=0.7, min_lift=1).sort_values(by='support',ascending=False).head(5)"
   ]
  },
  {
   "cell_type": "markdown",
   "metadata": {},
   "source": [
    "## Association Rules where 'Attrition = No'"
   ]
  },
  {
   "cell_type": "code",
   "execution_count": 118,
   "metadata": {},
   "outputs": [],
   "source": [
    "attrition_no = SupervisedApriori(df2,consequent = ['Attrition= No'],\n",
    "min_supp=0.3, min_conf=0.9, min_lift=1)"
   ]
  },
  {
   "cell_type": "markdown",
   "metadata": {},
   "source": [
    "**The below rules are the 5 most interesting because they have the highest lift(values >1). We can see that employees who don't work over time,work in research and development, have a high performance rating,don't have to travel often for business etc. They're highly likely to stay with the company. These rules go along with our intuitive understanding of factors that would cause employees to stay, for example, employees who do not work too many hours would naturally prefer to stay.**"
   ]
  },
  {
   "cell_type": "code",
   "execution_count": 119,
   "metadata": {},
   "outputs": [
    {
     "data": {
      "text/html": [
       "<div>\n",
       "<style scoped>\n",
       "    .dataframe tbody tr th:only-of-type {\n",
       "        vertical-align: middle;\n",
       "    }\n",
       "\n",
       "    .dataframe tbody tr th {\n",
       "        vertical-align: top;\n",
       "    }\n",
       "\n",
       "    .dataframe thead th {\n",
       "        text-align: right;\n",
       "    }\n",
       "</style>\n",
       "<table border=\"1\" class=\"dataframe\">\n",
       "  <thead>\n",
       "    <tr style=\"text-align: right;\">\n",
       "      <th></th>\n",
       "      <th>antecedents</th>\n",
       "      <th>consequents</th>\n",
       "      <th>antecedent support</th>\n",
       "      <th>consequent support</th>\n",
       "      <th>support</th>\n",
       "      <th>confidence</th>\n",
       "      <th>lift</th>\n",
       "      <th>leverage</th>\n",
       "      <th>conviction</th>\n",
       "    </tr>\n",
       "  </thead>\n",
       "  <tbody>\n",
       "    <tr>\n",
       "      <td>9</td>\n",
       "      <td>(BusinessTravel= Travel_Rarely, OverTime= No, ...</td>\n",
       "      <td>(Attrition= No)</td>\n",
       "      <td>0.337585</td>\n",
       "      <td>0.842687</td>\n",
       "      <td>0.309524</td>\n",
       "      <td>0.916877</td>\n",
       "      <td>1.088039</td>\n",
       "      <td>0.025045</td>\n",
       "      <td>1.892522</td>\n",
       "    </tr>\n",
       "    <tr>\n",
       "      <td>11</td>\n",
       "      <td>(OverTime= No, Department= Research &amp; Developm...</td>\n",
       "      <td>(Attrition= No)</td>\n",
       "      <td>0.379252</td>\n",
       "      <td>0.842687</td>\n",
       "      <td>0.346939</td>\n",
       "      <td>0.914798</td>\n",
       "      <td>1.085573</td>\n",
       "      <td>0.027348</td>\n",
       "      <td>1.846357</td>\n",
       "    </tr>\n",
       "    <tr>\n",
       "      <td>12</td>\n",
       "      <td>(OverTime= No, JobInvolvement= 3, PerformanceR...</td>\n",
       "      <td>(Attrition= No)</td>\n",
       "      <td>0.346939</td>\n",
       "      <td>0.842687</td>\n",
       "      <td>0.316327</td>\n",
       "      <td>0.911765</td>\n",
       "      <td>1.081973</td>\n",
       "      <td>0.023966</td>\n",
       "      <td>1.782880</td>\n",
       "    </tr>\n",
       "    <tr>\n",
       "      <td>4</td>\n",
       "      <td>(OverTime= No, Department= Research &amp; Developm...</td>\n",
       "      <td>(Attrition= No)</td>\n",
       "      <td>0.462585</td>\n",
       "      <td>0.842687</td>\n",
       "      <td>0.421769</td>\n",
       "      <td>0.911765</td>\n",
       "      <td>1.081973</td>\n",
       "      <td>0.031954</td>\n",
       "      <td>1.782880</td>\n",
       "    </tr>\n",
       "    <tr>\n",
       "      <td>6</td>\n",
       "      <td>(OverTime= No, MaritalStatus= Married)</td>\n",
       "      <td>(Attrition= No)</td>\n",
       "      <td>0.335034</td>\n",
       "      <td>0.842687</td>\n",
       "      <td>0.305272</td>\n",
       "      <td>0.911168</td>\n",
       "      <td>1.081264</td>\n",
       "      <td>0.022943</td>\n",
       "      <td>1.770894</td>\n",
       "    </tr>\n",
       "  </tbody>\n",
       "</table>\n",
       "</div>"
      ],
      "text/plain": [
       "                                          antecedents      consequents  \\\n",
       "9   (BusinessTravel= Travel_Rarely, OverTime= No, ...  (Attrition= No)   \n",
       "11  (OverTime= No, Department= Research & Developm...  (Attrition= No)   \n",
       "12  (OverTime= No, JobInvolvement= 3, PerformanceR...  (Attrition= No)   \n",
       "4   (OverTime= No, Department= Research & Developm...  (Attrition= No)   \n",
       "6              (OverTime= No, MaritalStatus= Married)  (Attrition= No)   \n",
       "\n",
       "    antecedent support  consequent support   support  confidence      lift  \\\n",
       "9             0.337585            0.842687  0.309524    0.916877  1.088039   \n",
       "11            0.379252            0.842687  0.346939    0.914798  1.085573   \n",
       "12            0.346939            0.842687  0.316327    0.911765  1.081973   \n",
       "4             0.462585            0.842687  0.421769    0.911765  1.081973   \n",
       "6             0.335034            0.842687  0.305272    0.911168  1.081264   \n",
       "\n",
       "    leverage  conviction  \n",
       "9   0.025045    1.892522  \n",
       "11  0.027348    1.846357  \n",
       "12  0.023966    1.782880  \n",
       "4   0.031954    1.782880  \n",
       "6   0.022943    1.770894  "
      ]
     },
     "execution_count": 119,
     "metadata": {},
     "output_type": "execute_result"
    }
   ],
   "source": [
    "attrition_no.sort_values(by='lift',ascending=False).head(5)"
   ]
  },
  {
   "cell_type": "code",
   "execution_count": 127,
   "metadata": {},
   "outputs": [],
   "source": [
    "attrition_yes = SupervisedApriori(df2,consequent = ['Attrition= Yes'],\n",
    "min_supp=0.04, min_conf=0.4, min_lift=1)"
   ]
  },
  {
   "cell_type": "markdown",
   "metadata": {},
   "source": [
    "**The below rules are the 5 most interesting because they have high lift values. Employees who have to work overtime,have low incomes/stock options,are in the early stages of their careers etc. Have a higher chance of leaving the company. This also goes along with our inituitive understanding, employees that spend long hours at work and aren't compensated highly are likely to look for opportunities elsewhere**"
   ]
  },
  {
   "cell_type": "code",
   "execution_count": 128,
   "metadata": {},
   "outputs": [
    {
     "data": {
      "text/html": [
       "<div>\n",
       "<style scoped>\n",
       "    .dataframe tbody tr th:only-of-type {\n",
       "        vertical-align: middle;\n",
       "    }\n",
       "\n",
       "    .dataframe tbody tr th {\n",
       "        vertical-align: top;\n",
       "    }\n",
       "\n",
       "    .dataframe thead th {\n",
       "        text-align: right;\n",
       "    }\n",
       "</style>\n",
       "<table border=\"1\" class=\"dataframe\">\n",
       "  <thead>\n",
       "    <tr style=\"text-align: right;\">\n",
       "      <th></th>\n",
       "      <th>antecedents</th>\n",
       "      <th>consequents</th>\n",
       "      <th>antecedent support</th>\n",
       "      <th>consequent support</th>\n",
       "      <th>support</th>\n",
       "      <th>confidence</th>\n",
       "      <th>lift</th>\n",
       "      <th>leverage</th>\n",
       "      <th>conviction</th>\n",
       "    </tr>\n",
       "  </thead>\n",
       "  <tbody>\n",
       "    <tr>\n",
       "      <td>13</td>\n",
       "      <td>(JobLevel= 1.0, OverTime= Yes, MonthlyIncome= ...</td>\n",
       "      <td>(Attrition= Yes)</td>\n",
       "      <td>0.072279</td>\n",
       "      <td>0.157313</td>\n",
       "      <td>0.042517</td>\n",
       "      <td>0.588235</td>\n",
       "      <td>3.739269</td>\n",
       "      <td>0.031147</td>\n",
       "      <td>2.046526</td>\n",
       "    </tr>\n",
       "    <tr>\n",
       "      <td>3</td>\n",
       "      <td>(OverTime= Yes, MonthlyIncome= Low)</td>\n",
       "      <td>(Attrition= Yes)</td>\n",
       "      <td>0.075680</td>\n",
       "      <td>0.157313</td>\n",
       "      <td>0.042517</td>\n",
       "      <td>0.561798</td>\n",
       "      <td>3.571212</td>\n",
       "      <td>0.030612</td>\n",
       "      <td>1.923055</td>\n",
       "    </tr>\n",
       "    <tr>\n",
       "      <td>33</td>\n",
       "      <td>(TotalWorkingYears= Low, StockOptionLevel= 0, ...</td>\n",
       "      <td>(Attrition= Yes)</td>\n",
       "      <td>0.082483</td>\n",
       "      <td>0.157313</td>\n",
       "      <td>0.041667</td>\n",
       "      <td>0.505155</td>\n",
       "      <td>3.211145</td>\n",
       "      <td>0.028691</td>\n",
       "      <td>1.702930</td>\n",
       "    </tr>\n",
       "    <tr>\n",
       "      <td>46</td>\n",
       "      <td>(YearsAtCompany= Low, Age= Young Adult, StockO...</td>\n",
       "      <td>(Attrition= Yes)</td>\n",
       "      <td>0.082483</td>\n",
       "      <td>0.157313</td>\n",
       "      <td>0.041667</td>\n",
       "      <td>0.505155</td>\n",
       "      <td>3.211145</td>\n",
       "      <td>0.028691</td>\n",
       "      <td>1.702930</td>\n",
       "    </tr>\n",
       "    <tr>\n",
       "      <td>1</td>\n",
       "      <td>(JobLevel= 1.0, OverTime= Yes)</td>\n",
       "      <td>(Attrition= Yes)</td>\n",
       "      <td>0.102041</td>\n",
       "      <td>0.157313</td>\n",
       "      <td>0.049320</td>\n",
       "      <td>0.483333</td>\n",
       "      <td>3.072432</td>\n",
       "      <td>0.033267</td>\n",
       "      <td>1.631007</td>\n",
       "    </tr>\n",
       "  </tbody>\n",
       "</table>\n",
       "</div>"
      ],
      "text/plain": [
       "                                          antecedents       consequents  \\\n",
       "13  (JobLevel= 1.0, OverTime= Yes, MonthlyIncome= ...  (Attrition= Yes)   \n",
       "3                 (OverTime= Yes, MonthlyIncome= Low)  (Attrition= Yes)   \n",
       "33  (TotalWorkingYears= Low, StockOptionLevel= 0, ...  (Attrition= Yes)   \n",
       "46  (YearsAtCompany= Low, Age= Young Adult, StockO...  (Attrition= Yes)   \n",
       "1                      (JobLevel= 1.0, OverTime= Yes)  (Attrition= Yes)   \n",
       "\n",
       "    antecedent support  consequent support   support  confidence      lift  \\\n",
       "13            0.072279            0.157313  0.042517    0.588235  3.739269   \n",
       "3             0.075680            0.157313  0.042517    0.561798  3.571212   \n",
       "33            0.082483            0.157313  0.041667    0.505155  3.211145   \n",
       "46            0.082483            0.157313  0.041667    0.505155  3.211145   \n",
       "1             0.102041            0.157313  0.049320    0.483333  3.072432   \n",
       "\n",
       "    leverage  conviction  \n",
       "13  0.031147    2.046526  \n",
       "3   0.030612    1.923055  \n",
       "33  0.028691    1.702930  \n",
       "46  0.028691    1.702930  \n",
       "1   0.033267    1.631007  "
      ]
     },
     "execution_count": 128,
     "metadata": {},
     "output_type": "execute_result"
    }
   ],
   "source": [
    "attrition_yes.sort_values(by='lift',ascending=False).head(5)"
   ]
  },
  {
   "cell_type": "markdown",
   "metadata": {},
   "source": [
    "## Link to The Dashboard\n",
    "\n",
    "https://hw01pranavradhakrishna.herokuapp.com/"
   ]
  },
  {
   "cell_type": "code",
   "execution_count": null,
   "metadata": {},
   "outputs": [],
   "source": []
  }
 ],
 "metadata": {
  "kernelspec": {
   "display_name": "Python 3",
   "language": "python",
   "name": "python3"
  },
  "language_info": {
   "codemirror_mode": {
    "name": "ipython",
    "version": 3
   },
   "file_extension": ".py",
   "mimetype": "text/x-python",
   "name": "python",
   "nbconvert_exporter": "python",
   "pygments_lexer": "ipython3",
   "version": "3.7.4"
  }
 },
 "nbformat": 4,
 "nbformat_minor": 2
}
